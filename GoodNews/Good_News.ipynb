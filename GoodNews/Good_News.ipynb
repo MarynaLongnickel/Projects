{
  "nbformat": 4,
  "nbformat_minor": 0,
  "metadata": {
    "colab": {
      "name": "Good News.ipynb",
      "version": "0.3.2",
      "provenance": [],
      "collapsed_sections": []
    },
    "kernelspec": {
      "name": "python3",
      "display_name": "Python 3"
    }
  },
  "cells": [
    {
      "metadata": {
        "id": "UPO-ZhWw9Zaq",
        "colab_type": "text"
      },
      "cell_type": "markdown",
      "source": [
        "# Cleaned up some..."
      ]
    },
    {
      "metadata": {
        "id": "vy64sEX6uqZd",
        "colab_type": "code",
        "outputId": "52c1815a-fbcd-4280-919a-3f7596c82874",
        "colab": {
          "base_uri": "https://localhost:8080/",
          "height": 364
        }
      },
      "cell_type": "code",
      "source": [
        "import numpy as np\n",
        "import pandas as pd\n",
        "import requests, zlib\n",
        "from sklearn.utils import shuffle\n",
        "from sklearn.svm import LinearSVC\n",
        "from sklearn.metrics import accuracy_score\n",
        "from sklearn.feature_extraction.text import TfidfVectorizer\n",
        "\n",
        "# get data\n",
        "\n",
        "'''\n",
        "The directory contains two files each consisting the headlines of 16,000 articles.\n",
        "Both files are compressed using gzip, and each line in the decompressed files contains one article headline. \n",
        "The clickbait corpus consists of article headlines from ‘BuzzFeed’, ‘Upworthy’, ‘ViralNova’, ‘Thatscoop’, ‘Scoopwhoop’ and ‘ViralStories’. \n",
        "The non-clickbait article headlines are collected from ‘WikiNews’, ’New York Times’, ‘The Guardian’, and ‘The Hindu’.\n",
        "This dataset is an enlarged version of the dataset used in the following paper. \n",
        "If you are using this data for any research publication, or for preparing a technical report, you must cite the paper as the source of the dataset.\n",
        "Abhijnan Chakraborty, Bhargavi Paranjape, Sourya Kakarla, and Niloy Ganguly. \n",
        "\"Stop Clickbait: Detecting and Preventing Clickbaits in Online News Media”. \n",
        "In Proceedings of the 2016 IEEE/ACM International Conference on Advances in Social Networks Analysis and Mining (ASONAM), San Fransisco, US, August 2016.\n",
        "'''\n",
        "\n",
        "res = requests.get('https://github.com/bhargaviparanjape/clickbait/raw/master/dataset/clickbait_data.gz')\n",
        "data = zlib.decompress(res.content, zlib.MAX_WBITS|32)\n",
        "data = data.decode(\"utf-8\").split('\\n')\n",
        "clickbait = data[:-1]\n",
        "df = pd.DataFrame(clickbait)\n",
        "\n",
        "res2 = requests.get('https://github.com/bhargaviparanjape/clickbait/raw/master/dataset/non_clickbait_data.gz')\n",
        "data2 = zlib.decompress(res2.content, zlib.MAX_WBITS|32)\n",
        "data2 = data2.decode(\"utf-8\").split('\\n')\n",
        "non_clickbait = data2[:-1]\n",
        "df2 = pd.DataFrame(non_clickbait)\n",
        "\n",
        "# get more data from different source\n",
        "\n",
        "'''\n",
        "Data from https://www.clickbait-challenge.org\n",
        "'''\n",
        "\n",
        "instances = pd.read_json('https://raw.githubusercontent.com/Lambda-School-Labs/DS-GoodNews/master/instances.jsonl', lines=True)\n",
        "truth = pd.read_json('https://raw.githubusercontent.com/Lambda-School-Labs/DS-GoodNews/master/truth.jsonl', lines=True)\n",
        "print(truth[:5])\n",
        "instances = instances[['id', 'targetTitle']]\n",
        "truth = truth[['id', 'truthClass']]"
      ],
      "execution_count": 0,
      "outputs": [
        {
          "output_type": "stream",
          "text": [
            "                   id    truthClass  \\\n",
            "0  608310377143799808  no-clickbait   \n",
            "1  609297109095972864  no-clickbait   \n",
            "2  609504474621612032     clickbait   \n",
            "3  609748367049105408  no-clickbait   \n",
            "4  608688782821453824     clickbait   \n",
            "\n",
            "                                      truthJudgments  truthMean  truthMedian  \\\n",
            "0    [0.0, 0.6666667, 0.0, 0.33333334000000003, 0.0]   0.200000     0.000000   \n",
            "1                    [0.6666667, 0.0, 0.0, 0.0, 0.0]   0.133333     0.000000   \n",
            "2  [0.33333334000000003, 0.6666667, 1.0, 0.0, 0.6...   0.533333     0.666667   \n",
            "3  [1.0, 0.0, 0.33333334000000003, 0.333333340000...   0.466667     0.333333   \n",
            "4  [1.0, 0.33333334000000003, 0.6666667, 0.333333...   0.666667     0.666667   \n",
            "\n",
            "   truthMode  \n",
            "0   0.000000  \n",
            "1   0.000000  \n",
            "2   0.666667  \n",
            "3   0.333333  \n",
            "4   1.000000  \n"
          ],
          "name": "stdout"
        }
      ]
    },
    {
      "metadata": {
        "id": "5B25rN6F6iF-",
        "colab_type": "code",
        "colab": {}
      },
      "cell_type": "code",
      "source": [
        "# add columns containing 0/1 for non_clickbait and clickbait\n",
        "\n",
        "df.columns = ['text']\n",
        "df['isClickbait'] = ['1' for _ in range(len(clickbait))]\n",
        "\n",
        "df2.columns = ['text']\n",
        "df2['isClickbait'] = ['0' for _ in range(len(non_clickbait))]\n",
        "\n",
        "# Two datasets are merged and truth class is changed from\n",
        "# 'no-clickbait' to '0' and from 'clickbait' to '1'.\n",
        "\n",
        "df3 = pd.merge(instances, truth, on = 'id')\n",
        "df3['isClickbait'] = df3['truthClass'].map({'no-clickbait': '0', 'clickbait': '1'})\n",
        "df3 = df3[['targetTitle', 'isClickbait']]\n",
        "df3.columns = ['text', 'isClickbait']"
      ],
      "execution_count": 0,
      "outputs": []
    },
    {
      "metadata": {
        "id": "wCEmJg0ZfoEg",
        "colab_type": "code",
        "colab": {}
      },
      "cell_type": "code",
      "source": [
        "# drop badly parsed data ...\n",
        "\n",
        "df3 = df3[~df3['text'].str.contains('Sections Shows Live Yahoo!-ABC News Network')]"
      ],
      "execution_count": 0,
      "outputs": []
    },
    {
      "metadata": {
        "id": "YjF0psxd7cg8",
        "colab_type": "code",
        "outputId": "859e12aa-51a3-4fdc-e9ab-3581560d19ff",
        "colab": {
          "base_uri": "https://localhost:8080/",
          "height": 52
        }
      },
      "cell_type": "code",
      "source": [
        "# shuffle before dividing into training and testing sets to mix up clickbait\n",
        "# and non-clickbait samples.\n",
        "# Drop rows containing nan and empty values.\n",
        "\n",
        "data = pd.concat([df, df2, df3])\n",
        "data = shuffle(data)\n",
        "data.reset_index(inplace = True)\n",
        "data = data[['text', 'isClickbait']]\n",
        "print(len(data))\n",
        "data.replace('', np.NaN, inplace = True)\n",
        "data.dropna(inplace = True)\n",
        "print(len(data))"
      ],
      "execution_count": 0,
      "outputs": [
        {
          "output_type": "stream",
          "text": [
            "60354\n",
            "34353\n"
          ],
          "name": "stdout"
        }
      ]
    },
    {
      "metadata": {
        "id": "3pxfh-9E7q0J",
        "colab_type": "code",
        "outputId": "aa5206c7-d7c9-43f8-e573-086a595b4eb4",
        "colab": {
          "base_uri": "https://localhost:8080/",
          "height": 34
        }
      },
      "cell_type": "code",
      "source": [
        "# initialize train-test split at 75% of data\n",
        "\n",
        "split = int(len(data)*0.75)\n",
        "print(split)\n",
        "\n",
        "# assign training and test sets\n",
        "\n",
        "X_train0 = data['text'][:split].values\n",
        "y_train = data['isClickbait'][:split].values\n",
        "X_test0 = data['text'][split:].values\n",
        "y_test = data['isClickbait'][split:].values\n",
        "\n",
        "# convert input values into a matrix of TF-IDF features\n",
        "\n",
        "vectorizer = TfidfVectorizer()\n",
        "X_train = vectorizer.fit_transform(X_train0)\n",
        "X_test = vectorizer.transform(X_test0)"
      ],
      "execution_count": 0,
      "outputs": [
        {
          "output_type": "stream",
          "text": [
            "25764\n"
          ],
          "name": "stdout"
        }
      ]
    },
    {
      "metadata": {
        "id": "U7vw-p-GPoLb",
        "colab_type": "code",
        "outputId": "837d138f-9041-46e8-af96-3a934b530e7d",
        "colab": {
          "base_uri": "https://localhost:8080/",
          "height": 121
        }
      },
      "cell_type": "code",
      "source": [
        "import warnings\n",
        "warnings.filterwarnings(\"ignore\")\n",
        "\n",
        "from sklearn.svm import LinearSVC\n",
        "from sklearn.ensemble import AdaBoostClassifier as ABC\n",
        "from sklearn.naive_bayes import MultinomialNB as MNB\n",
        "from sklearn.neural_network import MLPClassifier as MLPC\n",
        "from sklearn.linear_model import LogisticRegression as LR\n",
        "from sklearn.ensemble import RandomForestClassifier as RFC\n",
        "\n",
        "from sklearn.metrics import accuracy_score\n",
        "\n",
        "models = {'Linear Support Vector': LinearSVC(),\n",
        "          'Multi-layer Perceptron': MLPC(max_iter = 8),\n",
        "          'Multinomial Naive Bayes': MNB(),\n",
        "          'Logistic Regression': LR(),\n",
        "          'Adaptive Boosting': ABC(n_estimators = 1000),\n",
        "          'Random Forest': RFC(n_estimators = 100)}\n",
        "\n",
        "p = []\n",
        "for n, m in models.items():\n",
        "  m.fit(X_train, y_train)\n",
        "  predictions = m.predict(X_test)\n",
        "  p.append(predictions)\n",
        "  print('%s : %.3f' % (n, accuracy_score(y_test, predictions)))"
      ],
      "execution_count": 0,
      "outputs": [
        {
          "output_type": "stream",
          "text": [
            "Linear Support Vector : 0.954\n",
            "Multi-layer Perceptron : 0.955\n",
            "Multinomial Naive Bayes : 0.952\n",
            "Logistic Regression : 0.949\n",
            "Adaptive Boosting : 0.935\n",
            "Random Forest : 0.941\n"
          ],
          "name": "stdout"
        }
      ]
    },
    {
      "metadata": {
        "id": "3nkHYsRkC6KQ",
        "colab_type": "code",
        "outputId": "7a62ed27-f9a0-4ac6-c541-ec2b1188324f",
        "colab": {
          "base_uri": "https://localhost:8080/",
          "height": 364
        }
      },
      "cell_type": "code",
      "source": [
        "import matplotlib.pyplot as plt\n",
        "\n",
        "# By tuning hyperparameters, the accuracy of SVC can be improved by ~ 0.003\n",
        "\n",
        "acc = []\n",
        "best = (0,0,0)\n",
        "\n",
        "for c in range(1,100, 10):\n",
        "  for t in range(20, 30, 2):\n",
        "    model = LinearSVC(C = c/100, loss = 'hinge', tol = t/10)\n",
        "    model.fit(X_train, y_train)\n",
        "    predictions = model.predict(X_test)\n",
        "    a = accuracy_score(y_test, predictions)\n",
        "    acc.append(a)\n",
        "    if a > best[2]: best = (c, t, round(a,3))\n",
        "\n",
        "print('c: %d, t: %d, accuracy: %.3f' % best) \n",
        "  \n",
        "plt.plot(acc);\n",
        "plt.show()"
      ],
      "execution_count": 0,
      "outputs": [
        {
          "output_type": "stream",
          "text": [
            "c: 41, t: 20, accuracy: 0.958\n"
          ],
          "name": "stdout"
        },
        {
          "output_type": "display_data",
          "data": {
            "image/png": "[encoded data removed]",
            "text/plain": [
              "<matplotlib.figure.Figure at 0x7f86e14af940>"
            ]
          },
          "metadata": {
            "tags": []
          }
        }
      ]
    },
    {
      "metadata": {
        "id": "xxGgItlcokKV",
        "colab_type": "code",
        "outputId": "e92d52a4-1c4c-455e-a13c-9621071cfe0c",
        "colab": {
          "base_uri": "https://localhost:8080/",
          "height": 364
        }
      },
      "cell_type": "code",
      "source": [
        "# By tuning hyperparameters, the accuracy of MNB can be improved by ~ 0.004\n",
        "\n",
        "acc = []\n",
        "best = (0,0)\n",
        "\n",
        "for a in range(1,100,5):\n",
        "  model = MNB(alpha = a/100)\n",
        "  model.fit(X_train, y_train)\n",
        "  predictions = model.predict(X_test)\n",
        "  ac = accuracy_score(y_test, predictions)\n",
        "  acc.append(ac)\n",
        "  if ac > best[1]: best = (a, round(ac,3))\n",
        "\n",
        "print('a: %d, accuracy: %.3f' % best) \n",
        "  \n",
        "plt.plot(acc);\n",
        "plt.show()"
      ],
      "execution_count": 0,
      "outputs": [
        {
          "output_type": "stream",
          "text": [
            "a: 46, accuracy: 0.954\n"
          ],
          "name": "stdout"
        },
        {
          "output_type": "display_data",
          "data": {
            "image/png": "[encoded data removed]",
            "text/plain": [
              "<matplotlib.figure.Figure at 0x7f86e0a26780>"
            ]
          },
          "metadata": {
            "tags": []
          }
        }
      ]
    },
    {
      "metadata": {
        "id": "qnEc-dB2aL9y",
        "colab_type": "code",
        "outputId": "7eb630a4-e382-4a11-a568-d256c7d41e11",
        "colab": {
          "base_uri": "https://localhost:8080/",
          "height": 434
        }
      },
      "cell_type": "code",
      "source": [
        "# By tuning hyperparameters, the accuracy of RFC can be improved by ~ 0.022\n",
        "\n",
        "acc = []\n",
        "best = (0,0)\n",
        "\n",
        "for n in range(1, 5):\n",
        "  model = RFC(n_estimators = 100, max_features = 2)\n",
        "  model.fit(X_train, y_train)\n",
        "  predictions = model.predict(X_test)\n",
        "  ac = accuracy_score(y_test, predictions)\n",
        "  acc.append(ac)\n",
        "  if ac > best[1]: best = (n, round(ac,3))\n",
        "  print(n, ac)\n",
        "\n",
        "print('n: %d, accuracy: %.3f' % best) \n",
        "  \n",
        "plt.plot(acc);\n",
        "plt.show()"
      ],
      "execution_count": 0,
      "outputs": [
        {
          "output_type": "stream",
          "text": [
            "1 0.9598323436954244\n",
            "2 0.9620444754919083\n",
            "3 0.9594830597275585\n",
            "4 0.9614623355454651\n",
            "n: 2, accuracy: 0.962\n"
          ],
          "name": "stdout"
        },
        {
          "output_type": "display_data",
          "data": {
            "image/png": "[encoded data removed]",
            "text/plain": [
              "<matplotlib.figure.Figure at 0x7f86e1341c50>"
            ]
          },
          "metadata": {
            "tags": []
          }
        }
      ]
    },
    {
      "metadata": {
        "id": "E5Xgx6hHowM8",
        "colab_type": "code",
        "outputId": "41c7f658-dcd3-4bde-f5a5-d49734184bef",
        "colab": {
          "base_uri": "https://localhost:8080/",
          "height": 72
        }
      },
      "cell_type": "code",
      "source": [
        "wrong = []\n",
        "for i in range(len(y_test)):\n",
        "  if y_test[i] not in [p[j][i] for j in range(len(p))]:\n",
        "    wrong.append(i)\n",
        "\n",
        "print(len(wrong))\n",
        "print(wrong)"
      ],
      "execution_count": 0,
      "outputs": [
        {
          "output_type": "stream",
          "text": [
            "144\n",
            "[38, 148, 232, 276, 370, 388, 390, 442, 471, 586, 598, 683, 723, 775, 836, 847, 939, 1120, 1121, 1202, 1229, 1416, 1472, 1497, 1567, 1608, 1631, 1637, 1780, 1959, 1978, 2034, 2063, 2146, 2177, 2180, 2226, 2323, 2355, 2437, 2471, 2484, 2835, 2954, 2986, 3114, 3115, 3226, 3263, 3405, 3464, 3492, 3495, 3508, 3524, 3582, 3595, 3626, 3633, 3778, 3789, 3801, 3878, 3902, 3972, 4048, 4118, 4135, 4178, 4243, 4313, 4314, 4370, 4484, 4507, 4567, 4569, 4583, 4646, 4657, 4658, 4713, 4727, 4730, 4744, 4921, 5048, 5088, 5227, 5255, 5288, 5308, 5408, 5422, 5575, 5589, 5593, 5618, 5782, 5813, 5838, 5870, 5910, 6008, 6010, 6052, 6088, 6116, 6219, 6298, 6512, 6695, 6782, 6808, 6861, 6940, 6953, 6997, 7042, 7072, 7246, 7278, 7310, 7336, 7366, 7392, 7406, 7468, 7577, 7632, 7635, 7778, 7883, 7973, 7975, 8027, 8041, 8055, 8068, 8092, 8207, 8257, 8353, 8462]\n"
          ],
          "name": "stdout"
        }
      ]
    },
    {
      "metadata": {
        "id": "dCwVs6WEaCyk",
        "colab_type": "code",
        "outputId": "222082d8-2a03-490a-9194-7c3f2faa55f9",
        "colab": {
          "base_uri": "https://localhost:8080/",
          "height": 34
        }
      },
      "cell_type": "code",
      "source": [
        "y_test_change = y_test.copy()\n",
        "y_test_change[wrong] = ['0' if y_test[i] == '1' else '0' for i in wrong]\n",
        "accuracy_score(y_test_change, p[0])"
      ],
      "execution_count": 0,
      "outputs": [
        {
          "output_type": "execute_result",
          "data": {
            "text/plain": [
              "0.9601816276632903"
            ]
          },
          "metadata": {
            "tags": []
          },
          "execution_count": 10
        }
      ]
    },
    {
      "metadata": {
        "id": "CHXWwndhpdYm",
        "colab_type": "code",
        "colab": {}
      },
      "cell_type": "code",
      "source": [
        "for w in wrong:\n",
        "  print(y_test[w], \":\", X_test0[w])"
      ],
      "execution_count": 0,
      "outputs": []
    },
    {
      "metadata": {
        "id": "sAsWw59UP9Wa",
        "colab_type": "code",
        "colab": {}
      },
      "cell_type": "code",
      "source": [
        "import keras\n",
        "from keras.models import Sequential\n",
        "from keras.layers import Dense, Dropout\n",
        "from sklearn.metrics import confusion_matrix\n",
        "\n",
        "# Neural Network Classifier\n",
        "\n",
        "classifier = Sequential()\n",
        "\n",
        "classifier.add(Dense(activation=\"relu\", input_dim=X_train.shape[1], kernel_initializer=\"normal\", units = 40))\n",
        "# classifier.add(Dropout(0.2))\n",
        "# classifier.add(Dense(activation=\"relu\", kernel_initializer=\"uniform\", units=5))\n",
        "classifier.add(Dropout(0.2))\n",
        "classifier.add(Dense(activation=\"sigmoid\", kernel_initializer=\"uniform\", units=1))\n",
        "classifier.compile(optimizer = 'adam', loss = 'binary_crossentropy', metrics = ['accuracy'])\n",
        "\n",
        "classifier.fit(X_train, y_train, batch_size = 30, epochs = 15)\n",
        "\n",
        "y_pred = classifier.predict(X_test)\n",
        "y_pred = ['0' if i < 0.5 else '1' for i in y_pred]\n",
        "\n",
        "cm = confusion_matrix(y_test, y_pred)"
      ],
      "execution_count": 0,
      "outputs": []
    },
    {
      "metadata": {
        "id": "4_aZOv71t7UT",
        "colab_type": "code",
        "outputId": "0938711e-0a56-4a0a-9d19-18ad6bcb8c43",
        "colab": {
          "base_uri": "https://localhost:8080/",
          "height": 69
        }
      },
      "cell_type": "code",
      "source": [
        "print(accuracy_score(y_test, y_pred))\n",
        "cm"
      ],
      "execution_count": 0,
      "outputs": [
        {
          "output_type": "stream",
          "text": [
            "0.9396903015484923\n"
          ],
          "name": "stdout"
        },
        {
          "output_type": "execute_result",
          "data": {
            "text/plain": [
              "array([[4196,  297],\n",
              "       [ 221, 3875]])"
            ]
          },
          "metadata": {
            "tags": []
          },
          "execution_count": 15
        }
      ]
    },
    {
      "metadata": {
        "id": "PVdgu1zMxHEL",
        "colab_type": "code",
        "colab": {}
      },
      "cell_type": "code",
      "source": [
        "!pip install newspaper3k"
      ],
      "execution_count": 0,
      "outputs": []
    },
    {
      "metadata": {
        "id": "EN5JVxD1zynQ",
        "colab_type": "code",
        "outputId": "b1ab0f34-a740-4ee9-af7c-45bd1b92fb8e",
        "colab": {
          "base_uri": "https://localhost:8080/",
          "height": 69
        }
      },
      "cell_type": "code",
      "source": [
        "from newspaper import Article\n",
        "import feedparser\n",
        "import json\n",
        "import nltk\n",
        "nltk.download('punkt')"
      ],
      "execution_count": 0,
      "outputs": [
        {
          "output_type": "stream",
          "text": [
            "[nltk_data] Downloading package punkt to /root/nltk_data...\n",
            "[nltk_data]   Unzipping tokenizers/punkt.zip.\n"
          ],
          "name": "stdout"
        },
        {
          "output_type": "execute_result",
          "data": {
            "text/plain": [
              "True"
            ]
          },
          "metadata": {
            "tags": []
          },
          "execution_count": 21
        }
      ]
    },
    {
      "metadata": {
        "id": "jai6-jQZ5o3h",
        "colab_type": "code",
        "colab": {}
      },
      "cell_type": "code",
      "source": [
        "articles = []\n",
        "last_updated = {}\n",
        "list_of_jsons = []\n",
        "already_newspaperized_articles = []\n",
        "id_number = 0\n"
      ],
      "execution_count": 0,
      "outputs": []
    },
    {
      "metadata": {
        "id": "X3M7PboTquqB",
        "colab_type": "code",
        "colab": {}
      },
      "cell_type": "code",
      "source": [
        "feeds = ['http://rss.cnn.com/rss/cnn_us.rss', \n",
        "         'http://rss.nytimes.com/services/xml/rss/nyt/US.xml', \n",
        "         'https://www.economist.com/sections/united-states/rss.xml',\n",
        "         'http://www.wsj.com/xml/rss/3_7014.xml',\n",
        "         'http://feeds.foxnews.com/foxnews/national',\n",
        "         'https://www.buzzfeed.com/index.xml',\n",
        "         'http://feeds.reuters.com/Reuters/domesticNews',\n",
        "         'http://feeds.denverpost.com/dp-news-topstories',\n",
        "         'http://www.huffingtonpost.com/feeds/index.xml?x=1',\n",
        "         'http://rssfeeds.usatoday.com/UsatodaycomNation-TopStories',\n",
        "         'http://www.politico.com/rss/politicopicks.xml',\n",
        "         'https://www.yahoo.com/news/rss'\n",
        "         ]"
      ],
      "execution_count": 0,
      "outputs": []
    },
    {
      "metadata": {
        "id": "MI0BNrZYkvMx",
        "colab_type": "code",
        "colab": {}
      },
      "cell_type": "code",
      "source": [
        "def update_feeds(list_of_feed_urls):\n",
        "    global articles\n",
        "    global last_updated\n",
        "    for url in list_of_feed_urls:\n",
        "        feed = feedparser.parse(url)\n",
        "        for item in feed[\"items\"]:\n",
        "            if item['id'] not in articles:\n",
        "                articles.append(item['id'])\n",
        "                try:\n",
        "                    last_updated[feed[ \"channel\" ][ \"title\" ]] = feed.updated\n",
        "                except:\n",
        "                    print(feed[ \"channel\" ][ \"title\" ], \": Last update unknown\")"
      ],
      "execution_count": 0,
      "outputs": []
    },
    {
      "metadata": {
        "id": "m_-51qpB4dHz",
        "colab_type": "code",
        "colab": {}
      },
      "cell_type": "code",
      "source": [
        "def newspaperize(article_url, id_number):\n",
        "    article = Article(article_url)\n",
        "    try:\n",
        "        article.download()\n",
        "    except ArticleException:\n",
        "        print(\"Failed to download url:\", article_url)\n",
        "        return None\n",
        "    try:\n",
        "        article.parse()\n",
        "    except:\n",
        "        print(\"Failed to download url:\", article_url)\n",
        "        return None\n",
        "    headline = article.title\n",
        "    timestamp = article.publish_date\n",
        "    content = article.text\n",
        "    article.nlp()\n",
        "    keywords = article.keywords\n",
        "    summary = article.summary\n",
        "    description = article.meta_description\n",
        "    id_number = id_number\n",
        "    \n",
        "    # timestamp can be None\n",
        "   \n",
        "    json_entry = {\"id\" : id_number,\n",
        "                  \"name\": headline,\n",
        "                  \"url\" : article_url,\n",
        "                  \"timestamp\" : timestamp.isoformat() if timestamp is not None else \"\",\n",
        "                  \"description\" : description,\n",
        "                  \"keywords\" : keywords,\n",
        "                  \"summary\" : summary,\n",
        "                  \"content\" : content,\n",
        "                  \"clickbait\" : None}\n",
        "    return json_entry"
      ],
      "execution_count": 0,
      "outputs": []
    },
    {
      "metadata": {
        "id": "2bz47y5Uq5sV",
        "colab_type": "code",
        "colab": {}
      },
      "cell_type": "code",
      "source": [
        "update_feeds(feeds)"
      ],
      "execution_count": 0,
      "outputs": []
    },
    {
      "metadata": {
        "id": "mBodp8WKlWRJ",
        "colab_type": "code",
        "colab": {}
      },
      "cell_type": "code",
      "source": [
        "for item in articles:\n",
        "    if item not in already_newspaperized_articles:\n",
        "        article_json = newspaperize(item, id_number)\n",
        "        if article_json:\n",
        "            list_of_jsons.append(article_json)\n",
        "            id_number += 1\n",
        "        already_newspaperized_articles.append(item)"
      ],
      "execution_count": 0,
      "outputs": []
    },
    {
      "metadata": {
        "id": "YyVztKy_xZAt",
        "colab_type": "code",
        "colab": {}
      },
      "cell_type": "code",
      "source": [
        "for item in list_of_jsons:\n",
        "    item[\"clickbait\"] = svm.predict(vectorizer.transform([item[\"name\"]]))"
      ],
      "execution_count": 0,
      "outputs": []
    },
    {
      "metadata": {
        "id": "8L5o8Bq_yH3f",
        "colab_type": "code",
        "colab": {}
      },
      "cell_type": "code",
      "source": [
        "for item in list_of_jsons:\n",
        "    print(item[\"clickbait\"], item[\"name\"])"
      ],
      "execution_count": 0,
      "outputs": []
    },
    {
      "metadata": {
        "id": "cJueZyJ78wry",
        "colab_type": "code",
        "outputId": "41f992b5-13e4-4018-e156-4601f9449cc6",
        "colab": {
          "base_uri": "https://localhost:8080/",
          "height": 35
        }
      },
      "cell_type": "code",
      "source": [
        "print(len(list_of_jsons))"
      ],
      "execution_count": 0,
      "outputs": [
        {
          "output_type": "stream",
          "text": [
            "272\n"
          ],
          "name": "stdout"
        }
      ]
    },
    {
      "metadata": {
        "id": "YDKmEQ-MyYMu",
        "colab_type": "code",
        "colab": {}
      },
      "cell_type": "code",
      "source": [
        "for item in list_of_jsons:\n",
        "    print(item)"
      ],
      "execution_count": 0,
      "outputs": []
    },
    {
      "metadata": {
        "id": "iAPs0EloyqGj",
        "colab_type": "code",
        "outputId": "df079c5e-59ed-4d40-e155-19e8eeddc3ca",
        "colab": {
          "base_uri": "https://localhost:8080/",
          "height": 55
        }
      },
      "cell_type": "code",
      "source": [
        "print(last_updated)"
      ],
      "execution_count": 0,
      "outputs": [
        {
          "output_type": "stream",
          "text": [
            "{'CNN.com - RSS Channel - US': 'Thu, 06 Sep 2018 16:46:15 GMT', 'NYT > U.S.': 'Thu, 06 Sep 2018 16:42:10 GMT', 'WSJ.com: US Business': 'Thu, 06 Sep 2018 16:42:51 GMT', 'FOX News': 'Thu, 06 Sep 2018 16:44:24 GMT'}\n"
          ],
          "name": "stdout"
        }
      ]
    },
    {
      "metadata": {
        "id": "KV-xDFS00enU",
        "colab_type": "code",
        "colab": {}
      },
      "cell_type": "code",
      "source": [
        "with open('stories.json', 'w') as outfile:\n",
        "    json.dump(list_of_jsons, outfile)\n"
      ],
      "execution_count": 0,
      "outputs": []
    }
  ]
}