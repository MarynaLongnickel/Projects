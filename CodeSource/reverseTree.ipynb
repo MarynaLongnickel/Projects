{
  "nbformat": 4,
  "nbformat_minor": 0,
  "metadata": {
    "colab": {
      "name": "reverseTree.ipynb",
      "version": "0.3.2",
      "provenance": []
    },
    "kernelspec": {
      "name": "python3",
      "display_name": "Python 3"
    }
  },
  "cells": [
    {
      "metadata": {
        "id": "PuQISgdlH2mM",
        "colab_type": "text"
      },
      "cell_type": "markdown",
      "source": [
        "Given a binary tree of integers t, return its node values in the following format:\n",
        "\n",
        "The first element should be the value of the tree root;\n",
        "The next elements should be the values of the nodes at height 1 (i.e. the root children), ordered from the leftmost to the rightmost one;\n",
        "The elements after that should be the values of the nodes at height 2 (i.e. the children of the nodes at height 1) ordered in the same way;\n",
        "Etc.\n",
        "Example\n",
        "\n",
        "For\n",
        "\n",
        "t = {\n",
        "    \"value\": 1,\n",
        "    \"left\": {\n",
        "        \"value\": 2,\n",
        "        \"left\": null,\n",
        "        \"right\": {\n",
        "            \"value\": 3,\n",
        "            \"left\": null,\n",
        "            \"right\": null\n",
        "        }\n",
        "    },\n",
        "    \"right\": {\n",
        "        \"value\": 4,\n",
        "        \"left\": {\n",
        "            \"value\": 5,\n",
        "            \"left\": null,\n",
        "            \"right\": null\n",
        "        },\n",
        "        \"right\": null\n",
        "    }\n",
        "}\n",
        "the output should be\n",
        "traverseTree(t) = [1, 2, 4, 3, 5]."
      ]
    },
    {
      "metadata": {
        "id": "rrMp55BjPIUE",
        "colab_type": "code",
        "colab": {}
      },
      "cell_type": "code",
      "source": [
        "def traverseTree(t):\n",
        "    r = []\n",
        "    q = []\n",
        "    if t is None:\n",
        "        return r\n",
        "    q = [t] + q\n",
        "    while len(q) > 0:\n",
        "        c = q.pop()\n",
        "        r = r + [c.value]\n",
        "        if c.left is not None:\n",
        "            q.insert(0,c.left)\n",
        "        if c.right is not None:\n",
        "            q.insert(0,c.right)\n",
        "    return r    \n",
        "    "
      ],
      "execution_count": 0,
      "outputs": []
    }
  ]
}