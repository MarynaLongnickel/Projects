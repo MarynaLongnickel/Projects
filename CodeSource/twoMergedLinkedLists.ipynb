{
  "nbformat": 4,
  "nbformat_minor": 0,
  "metadata": {
    "colab": {
      "name": "twoMergedLinkedLists.ipynb",
      "version": "0.3.2",
      "provenance": []
    },
    "kernelspec": {
      "name": "python3",
      "display_name": "Python 3"
    }
  },
  "cells": [
    {
      "metadata": {
        "id": "PuQISgdlH2mM",
        "colab_type": "text"
      },
      "cell_type": "markdown",
      "source": [
        "Given two singly linked lists sorted in non-decreasing order, your task is to merge them. In other words, return a singly linked list, also sorted in non-decreasing order, that contains the elements from both original lists.\n",
        "\n",
        "Example\n",
        "\n",
        "For l1 = [1, 2, 3] and l2 = [4, 5, 6], the output should be\n",
        "mergeTwoLinkedLists(l1, l2) = [1, 2, 3, 4, 5, 6];\n",
        "For l1 = [1, 1, 2, 4] and l2 = [0, 3, 5], the output should be\n",
        "mergeTwoLinkedLists(l1, l2) = [0, 1, 1, 2, 3, 4, 5]."
      ]
    },
    {
      "metadata": {
        "id": "Zh4_dbGmH18C",
        "colab_type": "code",
        "colab": {}
      },
      "cell_type": "code",
      "source": [
        "def mergeTwoLinkedLists(l1, l2):\n",
        "    n = ListNode(None)\n",
        "    cur = n\n",
        "    while l1 and l2:\n",
        "        if l1.value <= l2.value:\n",
        "            cur.next = l1\n",
        "            l1 = l1.next\n",
        "        else:\n",
        "            cur.next = l2\n",
        "            l2 = l2.next\n",
        "        cur = cur.next\n",
        "    \n",
        "    if l1:\n",
        "        cur.next = l1\n",
        "    elif l2:\n",
        "        cur.next = l2\n",
        "    \n",
        "    return n.next\n",
        "    \n",
        "    \n",
        "    \n",
        "    \n"
      ],
      "execution_count": 0,
      "outputs": []
    }
  ]
}