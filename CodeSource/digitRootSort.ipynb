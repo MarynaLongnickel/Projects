{
  "nbformat": 4,
  "nbformat_minor": 0,
  "metadata": {
    "colab": {
      "name": "digitRootSort.ipynb",
      "version": "0.3.2",
      "provenance": []
    },
    "kernelspec": {
      "name": "python3",
      "display_name": "Python 3"
    }
  },
  "cells": [
    {
      "metadata": {
        "id": "PuQISgdlH2mM",
        "colab_type": "text"
      },
      "cell_type": "markdown",
      "source": [
        "Digit root of some positive integer is defined as the sum of all of its digits.\n",
        "\n",
        "You are given an array of integers. Sort it in such a way that if a comes before b then the digit root of a is less than or equal to the digit root of b. If two numbers have the same digit root, the smaller one (in the regular sense) should come first. For example 4 and 13 have the same digit root, however 4 < 13 thus 4 comes before 13 in any digitRoot sorting where both are present.\n",
        "\n",
        "Example\n",
        "\n",
        "For a = [13, 20, 7, 4], the output should be [20, 4, 13, 7]."
      ]
    },
    {
      "metadata": {
        "id": "Zh4_dbGmH18C",
        "colab_type": "code",
        "colab": {}
      },
      "cell_type": "code",
      "source": [
        "def digitRootSort(l):\n",
        "    for i in range(1, len(l)):\n",
        "        j = i - 1\n",
        "        key = l[i]\n",
        "        di = sum([int(k) for k in str(key)])\n",
        "        dj = sum([int(k) for k in str(l[j])])\n",
        "        while (dj > di) and (j >= 0):\n",
        "            l[j+1] = l[j]\n",
        "            j -= 1\n",
        "            dj = sum([int(k) for k in str(l[j])])\n",
        "        l[j+1] = key\n",
        "        if (dj == di) and (l[j+1] < l[j]):\n",
        "            l[j], l[j+1] = l[j+1], l[j]\n",
        "    return l\n"
      ],
      "execution_count": 0,
      "outputs": []
    }
  ]
}