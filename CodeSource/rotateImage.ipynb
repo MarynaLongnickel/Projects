{
  "nbformat": 4,
  "nbformat_minor": 0,
  "metadata": {
    "colab": {
      "name": "rotateImage.ipynb",
      "version": "0.3.2",
      "provenance": []
    },
    "kernelspec": {
      "name": "python3",
      "display_name": "Python 3"
    }
  },
  "cells": [
    {
      "metadata": {
        "id": "PuQISgdlH2mM",
        "colab_type": "text"
      },
      "cell_type": "markdown",
      "source": [
        "You are given an n x n 2D matrix that represents an image. Rotate the image by 90 degrees (clockwise).\n",
        "\n",
        "Example\n",
        "\n",
        "For\n",
        "\n",
        "a = [[1, 2, 3],\n",
        "     [4, 5, 6],\n",
        "     [7, 8, 9]]\n",
        "the output should be\n",
        "\n",
        "rotateImage(a) =\n",
        "    [[7, 4, 1],\n",
        "     [8, 5, 2],\n",
        "     [9, 6, 3]]"
      ]
    },
    {
      "metadata": {
        "id": "Zh4_dbGmH18C",
        "colab_type": "code",
        "colab": {}
      },
      "cell_type": "code",
      "source": [
        "def rotateImage(a):\n",
        "    a.reverse()\n",
        "    for i in range(len(a)):\n",
        "        for j in range(i): \n",
        "            a[i][j], a[j][i] = a[j][i], a[i][j]\n",
        "    return a\n"
      ],
      "execution_count": 0,
      "outputs": []
    },
    {
      "metadata": {
        "id": "YWx7rpvmKAG6",
        "colab_type": "code",
        "colab": {}
      },
      "cell_type": "code",
      "source": [
        "def rotateImage(a):\n",
        "    return list(zip(*reversed(a)))"
      ],
      "execution_count": 0,
      "outputs": []
    }
  ]
}