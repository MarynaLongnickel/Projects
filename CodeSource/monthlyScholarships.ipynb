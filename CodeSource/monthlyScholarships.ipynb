{
  "nbformat": 4,
  "nbformat_minor": 0,
  "metadata": {
    "colab": {
      "name": "monthlyScholarships.ipynb",
      "version": "0.3.2",
      "provenance": []
    },
    "kernelspec": {
      "name": "python3",
      "display_name": "Python 3"
    }
  },
  "cells": [
    {
      "metadata": {
        "id": "PuQISgdlH2mM",
        "colab_type": "text"
      },
      "cell_type": "markdown",
      "source": [
        "Students at your university get scholarships that are paid out throughout the year.\n",
        "\n",
        "Information about the scholarships is stored in the table scholarships, which has the structure:\n",
        "\n",
        "id: the unique student id;\n",
        "scholarship: the amount of the annual scholarship the student has been awarded.\n",
        "Now you need to calculate the amount of money each student should get per month. Given the table scholarships, build the resulting table as follows: The table should have the same columns as the initial table, but the scholarship column should contain the amount of the student's monthly scholarship payout. The rows should be ordered by the students' ids."
      ]
    },
    {
      "metadata": {
        "id": "Zh4_dbGmH18C",
        "colab_type": "code",
        "colab": {}
      },
      "cell_type": "code",
      "source": [
        "CREATE PROCEDURE monthlyScholarships()\n",
        "BEGIN\n",
        "\tSELECT id, (scholarship / 12) as scholarship\n",
        "    FROM scholarships\n",
        "    ORDER BY id;\n",
        "END"
      ],
      "execution_count": 0,
      "outputs": []
    }
  ]
}