{
  "nbformat": 4,
  "nbformat_minor": 0,
  "metadata": {
    "colab": {
      "name": "matrixElementsSum.ipynb",
      "version": "0.3.2",
      "provenance": []
    },
    "kernelspec": {
      "name": "python3",
      "display_name": "Python 3"
    }
  },
  "cells": [
    {
      "metadata": {
        "id": "PuQISgdlH2mM",
        "colab_type": "text"
      },
      "cell_type": "markdown",
      "source": [
        "After they became famous, the CodeBots all decided to move to a new building and live together. The building is represented by a rectangular matrix of rooms. Each cell in the matrix contains an integer that represents the price of the room. Some rooms are free (their cost is 0), but that's probably because they are haunted, so all the bots are afraid of them. That is why any room that is free or is located anywhere below a free room in the same column is not considered suitable for the bots to live in.\n",
        "\n",
        "Help the bots calculate the total price of all the rooms that are suitable for them.\n",
        "\n",
        "Example\n",
        "\n",
        "For\n",
        "matrix = [[0, 1, 1, 2], \n",
        "          [0, 5, 0, 0], \n",
        "          [2, 0, 3, 3]]\n",
        "the output should be\n",
        "matrixElementsSum(matrix) = 9.\n",
        "\n",
        "Here's the rooms matrix with unsuitable rooms marked with 'x':\n",
        "\n",
        "[[x, 1, 1, 2], \n",
        " [x, 5, x, x], \n",
        " [x, x, x, x]]\n",
        "Thus, the answer is 1 + 5 + 1 + 2 = 9.\n",
        "\n",
        "For\n",
        "matrix = [[1, 1, 1, 0], \n",
        "          [0, 5, 0, 1], \n",
        "          [2, 1, 3, 10]]\n",
        "the output should be\n",
        "matrixElementsSum(matrix) = 9.\n",
        "\n",
        "Here's the rooms matrix with unsuitable rooms marked with 'x':\n",
        "\n",
        "[[1, 1, 1, x], \n",
        " [x, 5, x, x], \n",
        " [x, 1, x, x]]\n",
        "Note that the free room in the first row make the full column unsuitable for bots.\n",
        "\n",
        "Thus, the answer is 1 + 1 + 1 + 5 + 1 = 9."
      ]
    },
    {
      "metadata": {
        "id": "rrMp55BjPIUE",
        "colab_type": "code",
        "colab": {}
      },
      "cell_type": "code",
      "source": [
        "def matrixElementsSum(matrix):\n",
        "    mt = list(zip(*matrix))\n",
        "    from itertools import takewhile\n",
        "    return sum([sum(takewhile(lambda x: x>0, y)) for y in mt])\n"
      ],
      "execution_count": 0,
      "outputs": []
    }
  ]
}