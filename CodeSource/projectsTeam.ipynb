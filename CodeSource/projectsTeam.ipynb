{
  "nbformat": 4,
  "nbformat_minor": 0,
  "metadata": {
    "colab": {
      "name": "projectsTeam.ipynb",
      "version": "0.3.2",
      "provenance": []
    },
    "kernelspec": {
      "name": "python3",
      "display_name": "Python 3"
    }
  },
  "cells": [
    {
      "metadata": {
        "id": "PuQISgdlH2mM",
        "colab_type": "text"
      },
      "cell_type": "markdown",
      "source": [
        "You've been promoted and assigned to a new project. The problem is, you don't know who you are working with and your predecessor has vanished without a trace! Luckily, each project in your company keeps its own activity database, which you are going to use to find out the names of your new colleagues.\n",
        "\n",
        "Information about the project's activity is stored in table projectLog, which has the following structure:\n",
        "\n",
        "id: unique action id;\n",
        "name: the name of the person who performed the action;\n",
        "description: the description of the action;\n",
        "timestamp: the timestamp of the action.\n",
        "You only have access to the project's most recent history, but this should be enough for you. You've decided that finding everyone who interacted with the project in this period is the best way to start.\n",
        "\n",
        "Given the table projectLog, build a new results table with a single name column that contains the names of the project's contributors sorted in ascending order."
      ]
    },
    {
      "metadata": {
        "id": "Zh4_dbGmH18C",
        "colab_type": "code",
        "colab": {}
      },
      "cell_type": "code",
      "source": [
        "CREATE PROCEDURE projectsTeam()\n",
        "BEGIN\n",
        "\tSELECT DISTINCT name\n",
        "    FROM projectLog\n",
        "    ORDER BY name ASC;\n",
        "END"
      ],
      "execution_count": 0,
      "outputs": []
    }
  ]
}