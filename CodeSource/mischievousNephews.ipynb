{
  "nbformat": 4,
  "nbformat_minor": 0,
  "metadata": {
    "colab": {
      "name": "mischievousNephews.ipynb",
      "version": "0.3.2",
      "provenance": []
    },
    "kernelspec": {
      "name": "python3",
      "display_name": "Python 3"
    }
  },
  "cells": [
    {
      "metadata": {
        "id": "PuQISgdlH2mM",
        "colab_type": "text"
      },
      "cell_type": "markdown",
      "source": [
        "Your nephews Huey, Dewey, and Louie are staying with you over the winter holidays. Ever since they arrived, you've hardly had a day go by without some kind of incident - the little rascals do whatever they please! Actually, you're not even mad; the ideas they come up with are pretty amazing, and it looks like there's even a system to their mischief.\n",
        "\n",
        "You decided to track and analyze their behavior, so you created the mischief table in your local database. The table has the following columns:\n",
        "\n",
        "mischief_date: the date of the mischief (of the date type);\n",
        "author: the nephew who caused the mischief (\"Huey\", \"Dewey\" or \"Louie\");\n",
        "title: the title of the mischief.\n",
        "It looks like each of your nephews is active on a specific day of the week. You decide to check your theory by creating another table as follows:\n",
        "The resulting table should contain four columns, weekday, mischief_date, author, and title, where weekday is the weekday of mischief_date (0 for Monday, 1 for Tuesday, and so on, with 6 for Sunday). The table should be sorted by the weekday column, and for each weekday Huey's mischief should go first, Dewey's should go next, and Louie's should go last. In case of a tie, mischief_date should be a tie-breaker. If there's still a tie, the record with the lexicographically smallest title should go first.\n",
        "\n",
        "It is guaranteed that all entries of mischief are unique."
      ]
    },
    {
      "metadata": {
        "id": "rrMp55BjPIUE",
        "colab_type": "code",
        "colab": {}
      },
      "cell_type": "code",
      "source": [
        "CREATE PROCEDURE mischievousNephews()\n",
        "BEGIN\n",
        "    SELECT WEEKDAY(mischief_date) as weekday, mischief_date, author, title\n",
        "    FROM mischief\n",
        "    ORDER BY weekday,\n",
        "        CASE author\n",
        "            WHEN 'Huey' THEN 1\n",
        "            WHEN 'Dewey' THEN 2\n",
        "            WHEN 'Louie' THEN 3 END, \n",
        "        mischief_date, title ASC;\n",
        "END"
      ],
      "execution_count": 0,
      "outputs": []
    }
  ]
}