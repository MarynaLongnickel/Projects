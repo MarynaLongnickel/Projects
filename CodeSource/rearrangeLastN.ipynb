{
  "nbformat": 4,
  "nbformat_minor": 0,
  "metadata": {
    "colab": {
      "name": "rearrangeLastN.ipynb",
      "version": "0.3.2",
      "provenance": []
    },
    "kernelspec": {
      "name": "python3",
      "display_name": "Python 3"
    }
  },
  "cells": [
    {
      "metadata": {
        "id": "PuQISgdlH2mM",
        "colab_type": "text"
      },
      "cell_type": "markdown",
      "source": [
        "Given a singly linked list of integers l and a non-negative integer n, move the last n list nodes to the beginning of the linked list.\n",
        "\n",
        "Example\n",
        "\n",
        "For l = [1, 2, 3, 4, 5] and n = 3, the output should be\n",
        "rearrangeLastN(l, n) = [3, 4, 5, 1, 2];\n",
        "For l = [1, 2, 3, 4, 5, 6, 7] and n = 1, the output should be\n",
        "rearrangeLastN(l, n) = [7, 1, 2, 3, 4, 5, 6]."
      ]
    },
    {
      "metadata": {
        "id": "rrMp55BjPIUE",
        "colab_type": "code",
        "colab": {}
      },
      "cell_type": "code",
      "source": [
        "def rearrangeLastN(l, n):\n",
        "    lis=[]\n",
        "    while l is not None:\n",
        "        lis.append(l.value)\n",
        "        l=l.next\n",
        "    return lis[-n:]+lis[:-n]\n"
      ],
      "execution_count": 0,
      "outputs": []
    }
  ]
}