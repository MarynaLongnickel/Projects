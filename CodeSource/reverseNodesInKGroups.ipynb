{
  "nbformat": 4,
  "nbformat_minor": 0,
  "metadata": {
    "colab": {
      "name": "reverseNodesInKGroups.ipynb",
      "version": "0.3.2",
      "provenance": []
    },
    "kernelspec": {
      "name": "python3",
      "display_name": "Python 3"
    }
  },
  "cells": [
    {
      "metadata": {
        "id": "PuQISgdlH2mM",
        "colab_type": "text"
      },
      "cell_type": "markdown",
      "source": [
        "Given a linked list l, reverse its nodes k at a time and return the modified list. k is a positive integer that is less than or equal to the length of l. If the number of nodes in the linked list is not a multiple of k, then the nodes that are left out at the end should remain as-is.\n",
        "\n",
        "You may not alter the values in the nodes - only the nodes themselves can be changed.\n",
        "\n",
        "Example\n",
        "\n",
        "For l = [1, 2, 3, 4, 5] and k = 2, the output should be\n",
        "reverseNodesInKGroups(l, k) = [2, 1, 4, 3, 5];\n",
        "For l = [1, 2, 3, 4, 5] and k = 1, the output should be\n",
        "reverseNodesInKGroups(l, k) = [1, 2, 3, 4, 5];\n",
        "For l = [1, 2, 3, 4, 5, 6, 7, 8, 9, 10, 11] and k = 3, the output should be\n",
        "reverseNodesInKGroups(l, k) = [3, 2, 1, 6, 5, 4, 9, 8, 7, 10, 11]."
      ]
    },
    {
      "metadata": {
        "id": "rrMp55BjPIUE",
        "colab_type": "code",
        "colab": {}
      },
      "cell_type": "code",
      "source": [
        "def reverseNodesInKGroups(l, k):\n",
        "    reversedL = []\n",
        "    while l:\n",
        "        kList = []\n",
        "        while l and len(kList) < k:\n",
        "            kList.insert(0, l.value)\n",
        "            l = l.next\n",
        "        if len(kList) < k:\n",
        "            index = len(reversedL)\n",
        "            for node in kList:\n",
        "                reversedL.insert(index, node)\n",
        "        else:\n",
        "            for node in kList:\n",
        "                reversedL.append(node)\n",
        "    return reversedL"
      ],
      "execution_count": 0,
      "outputs": []
    },
    {
      "metadata": {
        "id": "Zh4_dbGmH18C",
        "colab_type": "code",
        "colab": {}
      },
      "cell_type": "code",
      "source": [
        "\n",
        "class Node:\n",
        "  def __init__(self, v = None, next = None):\n",
        "    self.v = v\n",
        "    self.next = next\n",
        "    \n",
        "a = Node(1)\n",
        "b = Node(2)\n",
        "c = Node(3)\n",
        "d = Node(4)\n",
        "e = Node(5)\n",
        "\n",
        "a.next = b\n",
        "b.next = c\n",
        "c.next = d\n",
        "d.next = e\n",
        "\n",
        "def flipK(l, k):\n",
        "  c = l\n",
        "  for _ in range(k):\n",
        "    if not c: return l\n",
        "    c = c.next\n",
        "    \n",
        "  ans, c = l, l.next\n",
        "  \n",
        "  for _ in range(k-1):\n",
        "    ans, c.next, c = c, ans, c.next\n",
        "    \n",
        "  l.next = flipK(c, k)\n",
        "    \n",
        "  return ans\n",
        "\n",
        "new = flipK(a, 3)\n",
        "\n",
        "while new:\n",
        "  print(new.v)\n",
        "  new = new.next"
      ],
      "execution_count": 0,
      "outputs": []
    }
  ]
}