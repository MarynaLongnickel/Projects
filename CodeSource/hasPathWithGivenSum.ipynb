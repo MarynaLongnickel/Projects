{
  "nbformat": 4,
  "nbformat_minor": 0,
  "metadata": {
    "colab": {
      "name": "hasPathWithGivenSum.ipynb",
      "version": "0.3.2",
      "provenance": []
    },
    "kernelspec": {
      "name": "python3",
      "display_name": "Python 3"
    }
  },
  "cells": [
    {
      "metadata": {
        "id": "PuQISgdlH2mM",
        "colab_type": "text"
      },
      "cell_type": "markdown",
      "source": [
        "Given a binary tree t and an integer s, determine whether there is a root to leaf path in t such that the sum of vertex values equals s."
      ]
    },
    {
      "metadata": {
        "id": "rrMp55BjPIUE",
        "colab_type": "code",
        "colab": {}
      },
      "cell_type": "code",
      "source": [
        "def hasPathWithGivenSum(t, s): \n",
        "    if t is None:\n",
        "        return (s == 0)\n",
        " \n",
        "    else:\n",
        "        ans = 0\n",
        "         \n",
        "        subSum = s - t.value \n",
        "         \n",
        "        if(subSum == 0 and (t.left == None or t.right == None)):\n",
        "            return True\n",
        " \n",
        "        if t.left is not None:\n",
        "            ans = (ans or hasPathWithGivenSum(t.left, subSum))\n",
        "        if t.right is not None:\n",
        "            ans = (ans or hasPathWithGivenSum(t.right, subSum))\n",
        " \n",
        "        return ans"
      ],
      "execution_count": 0,
      "outputs": []
    },
    {
      "metadata": {
        "id": "1JJ5wxc8TGkd",
        "colab_type": "code",
        "colab": {}
      },
      "cell_type": "code",
      "source": [
        "class Node:\n",
        "  def __init__(self, value = None, left = None, right = None):\n",
        "    self.value = value\n",
        "    self.left = left\n",
        "    self.right = right\n",
        "    \n",
        "a = Node(1)\n",
        "b = Node(2)\n",
        "c = Node(3)\n",
        "d = Node(4)\n",
        "e = Node(5)\n",
        "\n",
        "a.left = b\n",
        "a.right = c\n",
        "b.left = d\n",
        "b.right = e\n",
        "\n",
        "\n",
        "def hasPathWithGivenSum(t, s):\n",
        "    if not t: return False\n",
        "    if not t.left and not t.right:\n",
        "        print(t.value)\n",
        "        if s == t.value: return True\n",
        "        else: return False\n",
        "    else:\n",
        "        if t.left or t.right: return hasPathWithGivenSum(t.left, s - t.value) or hasPathWithGivenSum(t.right, s - t.value)\n",
        "    \n",
        "      \n",
        "hasPathWithGivenSum(a, 4)"
      ],
      "execution_count": 0,
      "outputs": []
    }
  ]
}