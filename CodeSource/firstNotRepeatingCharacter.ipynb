{
  "nbformat": 4,
  "nbformat_minor": 0,
  "metadata": {
    "colab": {
      "name": "firstNotRepeatingCharacter.ipynb",
      "version": "0.3.2",
      "provenance": []
    },
    "kernelspec": {
      "name": "python3",
      "display_name": "Python 3"
    }
  },
  "cells": [
    {
      "metadata": {
        "id": "PuQISgdlH2mM",
        "colab_type": "text"
      },
      "cell_type": "markdown",
      "source": [
        "Given a string s, find and return the first instance of a non-repeating character in it. If there is no such character, return '_'.\n",
        "\n",
        "Example\n",
        "\n",
        "For s = \"abacabad\", the output should be\n",
        "firstNotRepeatingCharacter(s) = 'c'.\n",
        "\n",
        "There are 2 non-repeating characters in the string: 'c' and 'd'. Return c since it appears in the string first.\n",
        "\n",
        "For s = \"abacabaabacaba\", the output should be\n",
        "firstNotRepeatingCharacter(s) = '_'.\n",
        "\n",
        "There are no characters in this string that do not repeat."
      ]
    },
    {
      "metadata": {
        "id": "Zh4_dbGmH18C",
        "colab_type": "code",
        "colab": {}
      },
      "cell_type": "code",
      "source": [
        "def firstNotRepeatingCharacter(l):\n",
        "    c = []\n",
        "    first = set(l)\n",
        "    for s in first:\n",
        "        if l.count(s) == 1:\n",
        "            c.append((l.index(s), s))\n",
        "    sort = sorted(c)\n",
        "    if not c: return '_'\n",
        "    return sort[0][1]\n"
      ],
      "execution_count": 0,
      "outputs": []
    },
    {
      "metadata": {
        "id": "YWx7rpvmKAG6",
        "colab_type": "code",
        "colab": {}
      },
      "cell_type": "code",
      "source": [
        "def firstNotRepeatingCharacter(s):\n",
        "    for c in s:\n",
        "        if s.index(c) == s.rindex(c):\n",
        "            return c\n",
        "    return '_'"
      ],
      "execution_count": 0,
      "outputs": []
    }
  ]
}