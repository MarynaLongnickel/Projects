{
  "nbformat": 4,
  "nbformat_minor": 0,
  "metadata": {
    "colab": {
      "name": "longestPath.ipynb",
      "version": "0.3.2",
      "provenance": []
    },
    "kernelspec": {
      "name": "python3",
      "display_name": "Python 3"
    }
  },
  "cells": [
    {
      "metadata": {
        "id": "PuQISgdlH2mM",
        "colab_type": "text"
      },
      "cell_type": "markdown",
      "source": [
        "Suppose we represent our file system as a string. For example, the string \"user\\n\\tpictures\\n\\tdocuments\\n\\t\\tnotes.txt\" represents:\n",
        "\n",
        "user\n",
        "    pictures\n",
        "    documents\n",
        "        notes.txt    \n",
        "The directory user contains an empty sub-directory pictures and a sub-directory documents containing a file notes.txt.\n",
        "\n",
        "The string \"user\\n\\tpictures\\n\\t\\tphoto.png\\n\\t\\tcamera\\n\\tdocuments\\n\\t\\tlectures\\n\\t\\t\\tnotes.txt\" represents:\n",
        "\n",
        "user\n",
        "    pictures\n",
        "        photo.png\n",
        "        camera\n",
        "    documents\n",
        "        lectures\n",
        "            notes.txt\n",
        "The directory user contains two sub-directories pictures and documents. pictures contains a file photo.png and an empty second-level sub-directory camera. documents contains a second-level sub-directory lectures containing a file notes.txt.\n",
        "\n",
        "We want to find the longest (as determined by the number of characters) absolute path to a file within our system. For example, in the second example above, the longest absolute path is \"user/documents/lectures/notes.txt\", and its length is 33 (not including the double quotes).\n",
        "\n",
        "Given a string representing the file system in this format, return the length of the longest absolute path to a file in the abstracted file system. If there is not a file in the file system, return 0.\n",
        "\n",
        "Note: Due to system limitations, test cases use form feeds ('\\f', ASCII code 12) instead of newline characters.\n",
        "\n",
        "Example\n",
        "\n",
        "For fileSystem = \"user\\f\\tpictures\\f\\tdocuments\\f\\t\\tnotes.txt\", the output should be\n",
        "longestPath(fileSystem) = 24.\n",
        "\n",
        "The longest path is \"user/documents/notes.txt\", and it consists of 24 characters."
      ]
    },
    {
      "metadata": {
        "id": "rrMp55BjPIUE",
        "colab_type": "code",
        "colab": {}
      },
      "cell_type": "code",
      "source": [
        "def longestPath(s):\n",
        "    if len(s) == 1 or '.' not in s: return 0\n",
        "    sums = []\n",
        "    stack = []\n",
        "    lvl = 0\n",
        "    l = 0\n",
        "    i = 0\n",
        "    file = False\n",
        "    while i < len(s):\n",
        "        n = 0\n",
        "        while s[i] != '\\f':\n",
        "            if s[i] == '.': file = True\n",
        "            n += 1\n",
        "            i += 1\n",
        "            if i == len(s):\n",
        "                stack.append(n)\n",
        "                if file:\n",
        "                    sums.append(sum(stack) + lvl)\n",
        "                return max(sums)\n",
        "        stack.append(n)\n",
        "        sums.append(sum(stack) + lvl)\n",
        "        while s[i+1] == '\\t':\n",
        "            l += 1\n",
        "            i += 1\n",
        "        i += 1\n",
        "        if l > lvl:\n",
        "            lvl, l = l, 0\n",
        "        else:\n",
        "            if not file: sums = sums[:-1]\n",
        "            stack = stack[:-1-(lvl-l)]\n",
        "            lvl -= lvl - l\n",
        "            l = 0\n",
        "        file = False\n",
        "    return max(sums)"
      ],
      "execution_count": 0,
      "outputs": []
    },
    {
      "metadata": {
        "id": "_WgpF6zLRG6m",
        "colab_type": "code",
        "colab": {}
      },
      "cell_type": "code",
      "source": [
        "def longestPath(fileSystem):\n",
        "    maxlen = 0\n",
        "    pathlen = {0:0}\n",
        "    for line in fileSystem.splitlines():\n",
        "        name = line.lstrip('\\t')\n",
        "        depth = len(line)-len(name)\n",
        "        if '.' in name:\n",
        "            maxlen = max(maxlen, pathlen[depth]+len(name))\n",
        "        else:\n",
        "            pathlen[depth+1] = pathlen[depth] + len(name)+1\n",
        "    return maxlen"
      ],
      "execution_count": 0,
      "outputs": []
    }
  ]
}