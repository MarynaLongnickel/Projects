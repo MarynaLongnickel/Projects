{
  "nbformat": 4,
  "nbformat_minor": 0,
  "metadata": {
    "colab": {
      "name": "knapsackLight.ipynb",
      "version": "0.3.2",
      "provenance": []
    },
    "kernelspec": {
      "name": "python3",
      "display_name": "Python 3"
    }
  },
  "cells": [
    {
      "metadata": {
        "id": "PuQISgdlH2mM",
        "colab_type": "text"
      },
      "cell_type": "markdown",
      "source": [
        "You found two items in a treasure chest! The first item weighs weight1 and is worth value1, and the second item weighs weight2 and is worth value2. What is the total maximum value of the items you can take with you, assuming that your max weight capacity is maxW and you can't come back for the items later?\n",
        "\n",
        "Note that there are only two items and you can't bring more than one item of each type, i.e. you can't take two first items or two second items."
      ]
    },
    {
      "metadata": {
        "id": "rrMp55BjPIUE",
        "colab_type": "code",
        "colab": {}
      },
      "cell_type": "code",
      "source": [
        "def knapsackLight(value1, weight1, value2, weight2, maxW):\n",
        "    if weight1+weight2<=maxW: return value1+value2\n",
        "    elif weight1<=maxW and weight2<=maxW: return value1 if value1>value2 else value2\n",
        "    elif weight1<=maxW: return value1\n",
        "    elif weight2<=maxW: return value2\n",
        "    else: return 0"
      ],
      "execution_count": 0,
      "outputs": []
    }
  ]
}