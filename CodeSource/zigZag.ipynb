{
  "nbformat": 4,
  "nbformat_minor": 0,
  "metadata": {
    "colab": {
      "name": "zigZag.ipynb",
      "version": "0.3.2",
      "provenance": []
    },
    "kernelspec": {
      "name": "python3",
      "display_name": "Python 3"
    }
  },
  "cells": [
    {
      "metadata": {
        "id": "PuQISgdlH2mM",
        "colab_type": "text"
      },
      "cell_type": "markdown",
      "source": [
        "A sequence of integers is called a zigzag sequence if each of its elements is either strictly less than all its neighbors or strictly greater than all its neighbors. For example, the sequence 4 2 3 1 5 3 is a zigzag, but 7 3 5 5 2 and 3 8 6 4 5 aren't. Sequence of length 1 is also a zigzag.\n",
        "\n",
        "For a given array of integers return the length of its longest contiguous sub-array that is a zigzag sequence."
      ]
    },
    {
      "metadata": {
        "id": "Zh4_dbGmH18C",
        "colab_type": "code",
        "colab": {}
      },
      "cell_type": "code",
      "source": [
        "def zigzag(n):\n",
        "    l = len(n)\n",
        "    if l == 1: return 1\n",
        "    \n",
        "    if n[1] > n[0]:\n",
        "        c = 1\n",
        "        prev = -1\n",
        "    elif n[1] < n[0]:\n",
        "        c = 1\n",
        "        prev = 1\n",
        "    else:\n",
        "        prev = 0\n",
        "        c = 0\n",
        "        \n",
        "    m = 0\n",
        "    \n",
        "    for i in range(1, l - 1):\n",
        "      \n",
        "        if prev > 0:\n",
        "            if n[i+1] > n[i]:\n",
        "                c += 1\n",
        "                prev = -1\n",
        "            else:\n",
        "                if c > m:\n",
        "                    m = c\n",
        "                if n[i+1] < n[i]:\n",
        "                    prev = 1\n",
        "                    c = 1\n",
        "                else:\n",
        "                    prev = 0\n",
        "                    c = 0\n",
        "                \n",
        "        elif prev < 0:\n",
        "            if n[i+1] < n[i]:\n",
        "                c += 1\n",
        "                prev = 1\n",
        "            else:\n",
        "                if c > m:\n",
        "                    m = c\n",
        "                if n[i+1] > n[i]:\n",
        "                    prev = -1\n",
        "                    c = 1\n",
        "                else:\n",
        "                    prev = 0\n",
        "                    c = 0\n",
        "                \n",
        "        else:\n",
        "            if n[i+1] > n[i]:\n",
        "                c = 1\n",
        "                prev = -1\n",
        "            elif n[i+1] < n[i]:\n",
        "                c = 1\n",
        "                prev = 1\n",
        "            else:\n",
        "                prev = 0\n",
        "            \n",
        "    if c > m:\n",
        "        return c    \n",
        "    return m + 1\n",
        "  "
      ],
      "execution_count": 0,
      "outputs": []
    }
  ]
}