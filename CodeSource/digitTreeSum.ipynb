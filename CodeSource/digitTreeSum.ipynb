{
  "nbformat": 4,
  "nbformat_minor": 0,
  "metadata": {
    "colab": {
      "name": "digitTreeSum.ipynb",
      "version": "0.3.2",
      "provenance": []
    },
    "kernelspec": {
      "name": "python3",
      "display_name": "Python 3"
    }
  },
  "cells": [
    {
      "metadata": {
        "id": "PuQISgdlH2mM",
        "colab_type": "text"
      },
      "cell_type": "markdown",
      "source": [
        "We're going to store numbers in a tree. Each node in this tree will store a single digit (from 0 to 9), and each path from root to leaf encodes a non-negative integer.\n",
        "\n",
        "Given a binary tree t, find the sum of all the numbers encoded in it."
      ]
    },
    {
      "metadata": {
        "id": "rrMp55BjPIUE",
        "colab_type": "code",
        "colab": {}
      },
      "cell_type": "code",
      "source": [
        "def digitTreeSum(t):\n",
        "    if not t:\n",
        "        return 0\n",
        "    \n",
        "    stack = [(t, 0)]\n",
        "    sum = 0\n",
        "    while stack:\n",
        "        \n",
        "        cur, v = stack.pop()\n",
        "        if cur.left or cur.right:\n",
        "            if cur.left:\n",
        "                stack.append((cur.left, cur.value + v * 10))\n",
        "            if cur.right:\n",
        "                stack.append((cur.right, cur.value + v * 10))\n",
        "        else:\n",
        "            sum += cur.value + v * 10\n",
        "    \n",
        "    return sum"
      ],
      "execution_count": 0,
      "outputs": []
    }
  ]
}