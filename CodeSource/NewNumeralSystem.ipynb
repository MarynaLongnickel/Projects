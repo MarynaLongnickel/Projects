{
  "nbformat": 4,
  "nbformat_minor": 0,
  "metadata": {
    "colab": {
      "name": "NewNumeralSystem.ipynb",
      "version": "0.3.2",
      "provenance": []
    },
    "kernelspec": {
      "name": "python3",
      "display_name": "Python 3"
    }
  },
  "cells": [
    {
      "metadata": {
        "id": "PuQISgdlH2mM",
        "colab_type": "text"
      },
      "cell_type": "markdown",
      "source": [
        "New Numeral System\n",
        "\n",
        "Your Informatics teacher at school likes coming up with new ways to help you understand the material. When you started studying numeral systems, he introduced his own numeral system, which he's convinced will help clarify things. His numeral system has base 26, and its digits are represented by English capital letters - A for 0, B for 1, and so on.\n",
        "\n",
        "The teacher assigned you the following numeral system exercise: given a one-digit number, you should find all unordered pairs of one-digit numbers whose values add up to the number."
      ]
    },
    {
      "metadata": {
        "id": "Zh4_dbGmH18C",
        "colab_type": "code",
        "colab": {}
      },
      "cell_type": "code",
      "source": [
        "def newNumeralSystem(number):\n",
        "    l = []\n",
        "    end = ord(number)\n",
        "    for i in range(65, end - (end-65)//2 + 1):\n",
        "        if i > (end - i + 65): break\n",
        "        l.append(chr(i) + ' + ' + chr(end - i + 65))\n",
        "    return l"
      ],
      "execution_count": 0,
      "outputs": []
    }
  ]
}