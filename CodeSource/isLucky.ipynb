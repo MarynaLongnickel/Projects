{
  "nbformat": 4,
  "nbformat_minor": 0,
  "metadata": {
    "colab": {
      "name": "isLucky.ipynb",
      "version": "0.3.2",
      "provenance": []
    },
    "kernelspec": {
      "name": "python3",
      "display_name": "Python 3"
    }
  },
  "cells": [
    {
      "metadata": {
        "id": "PuQISgdlH2mM",
        "colab_type": "text"
      },
      "cell_type": "markdown",
      "source": [
        "Ticket numbers usually consist of an even number of digits. A ticket number is considered lucky if the sum of the first half of the digits is equal to the sum of the second half.\n",
        "\n",
        "Given a ticket number n, determine if it's lucky or not."
      ]
    },
    {
      "metadata": {
        "id": "Zh4_dbGmH18C",
        "colab_type": "code",
        "colab": {}
      },
      "cell_type": "code",
      "source": [
        "def isLucky(n):\n",
        "    l = len(str(n))//2\n",
        "    n1 = str(n)[:l]\n",
        "    n2 = str(n)[l:]\n",
        "    s1 = sum([int(i) for i in n1])\n",
        "    s2 = sum([int(i) for i in n2])\n",
        "    return s1 == s2"
      ],
      "execution_count": 0,
      "outputs": []
    }
  ]
}