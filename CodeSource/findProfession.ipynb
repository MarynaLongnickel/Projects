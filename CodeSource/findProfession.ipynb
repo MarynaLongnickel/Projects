{
  "nbformat": 4,
  "nbformat_minor": 0,
  "metadata": {
    "colab": {
      "name": "findProfession.ipynb",
      "version": "0.3.2",
      "provenance": []
    },
    "kernelspec": {
      "name": "python3",
      "display_name": "Python 3"
    }
  },
  "cells": [
    {
      "metadata": {
        "id": "PuQISgdlH2mM",
        "colab_type": "text"
      },
      "cell_type": "markdown",
      "source": [
        "Consider a special family of Engineers and Doctors. This family has the following rules:\n",
        "\n",
        "Everybody has two children.\n",
        "The first child of an Engineer is an Engineer and the second child is a Doctor.\n",
        "The first child of a Doctor is a Doctor and the second child is an Engineer.\n",
        "All generations of Doctors and Engineers start with an Engineer.\n",
        "We can represent the situation using this diagram:\n",
        "\n",
        "                E\n",
        "           /         \\\n",
        "          E           D\n",
        "        /   \\        /  \\\n",
        "       E     D      D    E\n",
        "      / \\   / \\    / \\   / \\\n",
        "     E   D D   E  D   E E   D\n",
        "Given the level and position of a person in the ancestor tree above, find the profession of the person.\n",
        "Note: in this tree first child is considered as left child, second - as right."
      ]
    },
    {
      "metadata": {
        "id": "rrMp55BjPIUE",
        "colab_type": "code",
        "colab": {}
      },
      "cell_type": "code",
      "source": [
        "def findProfession(level, pos):\n",
        "    i = 2**(level-1) - 1 + pos\n",
        "    return 'Engineer' if bin(i)[2:].count('1')%2 == 1 else 'Doctor'"
      ],
      "execution_count": 0,
      "outputs": []
    }
  ]
}