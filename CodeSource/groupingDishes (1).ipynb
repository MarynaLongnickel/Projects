{
  "nbformat": 4,
  "nbformat_minor": 0,
  "metadata": {
    "colab": {
      "name": "groupingDishes.ipynb",
      "version": "0.3.2",
      "provenance": []
    },
    "kernelspec": {
      "name": "python3",
      "display_name": "Python 3"
    }
  },
  "cells": [
    {
      "metadata": {
        "id": "PuQISgdlH2mM",
        "colab_type": "text"
      },
      "cell_type": "markdown",
      "source": [
        "Given an array of integers nums and an integer k, determine whether there are two distinct indices i and j in the array where nums[i] = nums[j] and the absolute difference between i and j is less than or equal to k.\n",
        "\n",
        "Example\n",
        "\n",
        "For nums = [0, 1, 2, 3, 5, 2] and k = 3, the output should be\n",
        "containsCloseNums(nums, k) = true.\n",
        "\n",
        "There are two 2s in nums, and the absolute difference between their positions is exactly 3.\n",
        "\n",
        "For nums = [0, 1, 2, 3, 5, 2] and k = 2, the output should be\n",
        "containsCloseNums(nums, k) = false.\n",
        "\n",
        "The absolute difference between the positions of the two 2s is 3, which is more than k."
      ]
    },
    {
      "metadata": {
        "id": "rrMp55BjPIUE",
        "colab_type": "code",
        "colab": {}
      },
      "cell_type": "code",
      "source": [
        "def containsCloseNums(nums, k):\n",
        "    r = []\n",
        "    s = 0\n",
        "    for n in nums:\n",
        "        r.append([n,s])\n",
        "        s += 1\n",
        "    r = sorted(r, key = lambda x: x[0])\n",
        "    for i in range(1, len(r)):\n",
        "        if r[i][0] == r[i-1][0]:\n",
        "            if r[i][1] - r[i-1][1] <= k: return True\n",
        "    return False"
      ],
      "execution_count": 0,
      "outputs": []
    },
    {
      "metadata": {
        "id": "1JJ5wxc8TGkd",
        "colab_type": "code",
        "colab": {}
      },
      "cell_type": "code",
      "source": [
        "def containsCloseNums(nums, k):\n",
        "    l = len(nums)\n",
        "    for i in range(max(l, l - k + 1)):\n",
        "        for j in range(min(i+1, l), min(i+k+1, l)):\n",
        "            if nums[i] == nums[j]: return True\n",
        "    return False\n",
        "\n",
        "nums = [3,4,6,2,5,3,8,6,4]\n",
        "k = 4\n",
        "containsCloseNums(nums, k)"
      ],
      "execution_count": 0,
      "outputs": []
    }
  ]
}