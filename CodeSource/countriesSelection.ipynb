{
  "nbformat": 4,
  "nbformat_minor": 0,
  "metadata": {
    "colab": {
      "name": "countriesSelection.ipynb",
      "version": "0.3.2",
      "provenance": []
    },
    "kernelspec": {
      "name": "python3",
      "display_name": "Python 3"
    }
  },
  "cells": [
    {
      "metadata": {
        "id": "PuQISgdlH2mM",
        "colab_type": "text"
      },
      "cell_type": "markdown",
      "source": [
        "Your friend wants to become a professional tour guide and travel all around the world. In pursuit of this dream, she enrolled in tour guide school. The professors in this school turned out to be very demanding, and one of them gave your friend a difficult assignment that she has to finish over the weekend.\n",
        "\n",
        "Here's the assignment: Given a list of countries, your friend should identify all the countries that are in Africa. To help her, you have decided to write a function that will find all such countries from any set of countries. The countries table in which the countries are stored has the following structure:\n",
        "\n",
        "name: the name of the country;\n",
        "continent: the continent on which the country is situated;\n",
        "population: the country's population.\n",
        "Your task is to return a new table that has the same columns, but that only contains the countries from Africa. The countries should be sorted alphabetically by their names."
      ]
    },
    {
      "metadata": {
        "id": "Zh4_dbGmH18C",
        "colab_type": "code",
        "colab": {}
      },
      "cell_type": "code",
      "source": [
        "CREATE PROCEDURE countriesSelection()\n",
        "BEGIN\n",
        "\tSELECT *\n",
        "    FROM countries\n",
        "    WHERE continent = 'Africa'\n",
        "    ORDER BY name;\n",
        "END"
      ],
      "execution_count": 0,
      "outputs": []
    }
  ]
}