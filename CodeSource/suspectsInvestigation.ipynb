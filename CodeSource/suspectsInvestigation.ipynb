{
  "nbformat": 4,
  "nbformat_minor": 0,
  "metadata": {
    "colab": {
      "name": "suspectsInvestigation.ipynb",
      "version": "0.3.2",
      "provenance": []
    },
    "kernelspec": {
      "name": "python3",
      "display_name": "Python 3"
    }
  },
  "cells": [
    {
      "metadata": {
        "id": "PuQISgdlH2mM",
        "colab_type": "text"
      },
      "cell_type": "markdown",
      "source": [
        "A large amount of money was stolen today from the main city bank, and as the chief of police it's your duty to find the robber.\n",
        "\n",
        "You store information about your suspects in the table Suspect, which has the structure:\n",
        "\n",
        "id: unique suspect id;\n",
        "name: suspect first name;\n",
        "surname: suspect surname;\n",
        "height: suspect height;\n",
        "weight: suspect weight.\n",
        "You have already gathered some evidence and discovered the following clues:\n",
        "\n",
        "according to the camera records, the robber is not taller than 170cm;\n",
        "the robber left their signature near the crime scene: \"B. Gre?n\". \"B\" definitely stands for the first letter of robber's name, and \"Gre?n\" is their surname. The 4th letter of the surname is smudged by ketchup and is unreadable.\n",
        "To make the list of suspects smaller, you would like to filter out the suspects who can't possibly be guilty according to the information obtained from the clues. For each remaining suspect, you want to save his/her id, name and surname. Please note that the information obtained from the clue should be considered case-insensitive, so for example \"bill Green\", and \"Bill green\", and \"Bill Green\" should all be included in the new table.\n",
        "\n",
        "Given the table Suspect, build the resulting table as follows: the table should have columns id, name and surname and its values should be ordered by the suspects' ids in ascending order."
      ]
    },
    {
      "metadata": {
        "id": "rrMp55BjPIUE",
        "colab_type": "code",
        "colab": {}
      },
      "cell_type": "code",
      "source": [
        "CREATE PROCEDURE suspectsInvestigation2()\n",
        "BEGIN\n",
        "\tSELECT id, name, surname\n",
        "    FROM Suspect\n",
        "    WHERE (height <= 170) OR NOT (name LIKE 'B%') OR NOT (surname LIKE 'Gre_n')\n",
        "    ORDER BY id;\n",
        "END"
      ],
      "execution_count": 0,
      "outputs": []
    }
  ]
}