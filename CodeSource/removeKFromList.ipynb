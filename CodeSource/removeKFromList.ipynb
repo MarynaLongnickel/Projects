{
  "nbformat": 4,
  "nbformat_minor": 0,
  "metadata": {
    "colab": {
      "name": "removeKFromList.ipynb",
      "version": "0.3.2",
      "provenance": []
    },
    "kernelspec": {
      "name": "python3",
      "display_name": "Python 3"
    }
  },
  "cells": [
    {
      "metadata": {
        "id": "PuQISgdlH2mM",
        "colab_type": "text"
      },
      "cell_type": "markdown",
      "source": [
        "Given a singly linked list of integers l and an integer k, remove all elements from list l that have a value equal to k.\n",
        "\n",
        "Example\n",
        "\n",
        "For l = [3, 1, 2, 3, 4, 5] and k = 3, the output should be\n",
        "removeKFromList(l, k) = [1, 2, 4, 5];\n",
        "For l = [1, 2, 3, 4, 5, 6, 7] and k = 10, the output should be\n",
        "removeKFromList(l, k) = [1, 2, 3, 4, 5, 6, 7]."
      ]
    },
    {
      "metadata": {
        "id": "Zh4_dbGmH18C",
        "colab_type": "code",
        "colab": {}
      },
      "cell_type": "code",
      "source": [
        "def removeKFromList(l, k):\n",
        "    c = l\n",
        "    while c:\n",
        "        if c.next and c.next.value == k:\n",
        "            c.next = c.next.next\n",
        "        else:\n",
        "            c = c.next\n",
        "    return l.next if l and l.value == k else l"
      ],
      "execution_count": 0,
      "outputs": []
    }
  ]
}