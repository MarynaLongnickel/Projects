{
  "nbformat": 4,
  "nbformat_minor": 0,
  "metadata": {
    "colab": {
      "name": "constructSubmatrix.ipynb",
      "version": "0.3.2",
      "provenance": []
    },
    "kernelspec": {
      "name": "python3",
      "display_name": "Python 3"
    }
  },
  "cells": [
    {
      "metadata": {
        "id": "PuQISgdlH2mM",
        "colab_type": "text"
      },
      "cell_type": "markdown",
      "source": [
        "Given a matrix (i.e. an array of arrays), find its submatrix obtained by deleting the specified rows and columns.\n",
        "\n",
        "Example\n",
        "\n",
        "For\n",
        "\n",
        "matrix = [[1, 0, 0, 2], \n",
        "          [0, 5, 0, 1], \n",
        "          [0, 0, 3, 5]]\n",
        "rowsToDelete = [1], and columnsToDelete = [0, 2], the output should be\n",
        "\n",
        "constructSubmatrix(matrix, rowsToDelete, columnsToDelete) = [[0, 2],\n",
        "                                                             [0, 5]]"
      ]
    },
    {
      "metadata": {
        "id": "Zh4_dbGmH18C",
        "colab_type": "code",
        "colab": {}
      },
      "cell_type": "code",
      "source": [
        "import numpy as np\n",
        "\n",
        "def constructSubmatrix(matrix, rowsToDelete, columnsToDelete):\n",
        "    matrix = np.delete(matrix,rowsToDelete,axis=0)\n",
        "    matrix = np.delete(matrix,columnsToDelete,axis=1)\n",
        "    return matrix\n"
      ],
      "execution_count": 0,
      "outputs": []
    }
  ]
}