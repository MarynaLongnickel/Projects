{
  "nbformat": 4,
  "nbformat_minor": 0,
  "metadata": {
    "colab": {
      "name": "groupingDishes.ipynb",
      "version": "0.3.2",
      "provenance": []
    },
    "kernelspec": {
      "name": "python3",
      "display_name": "Python 3"
    }
  },
  "cells": [
    {
      "metadata": {
        "id": "PuQISgdlH2mM",
        "colab_type": "text"
      },
      "cell_type": "markdown",
      "source": [
        "You have a list of dishes. Each dish is associated with a list of ingredients used to prepare it. You want to group the dishes by ingredients, so that for each ingredient you'll be able to find all the dishes that contain it (if there are at least 2 such dishes).\n",
        "\n",
        "Return an array where each element is a list with the first element equal to the name of the ingredient and all of the other elements equal to the names of dishes that contain this ingredient. The dishes inside each list should be sorted lexicographically. The result array should be sorted lexicographically by the names of the ingredients in its elements."
      ]
    },
    {
      "metadata": {
        "id": "rrMp55BjPIUE",
        "colab_type": "code",
        "colab": {}
      },
      "cell_type": "code",
      "source": [
        "def groupingDishes(dishes):\n",
        "    r = {}\n",
        "    for d in dishes:\n",
        "        dish = d.pop(0)\n",
        "        for i in d:\n",
        "            r[i] = r.get(i, []) + [dish]\n",
        "    return sorted([i] + sorted(v) for i, v in r.items() if len(v) > 1)    \n",
        "    \n",
        "    \n",
        "#     ing = set([i for j in dishes for i in j[1:]])\n",
        "#     rec = []\n",
        "#     for i in ing:\n",
        "#         rec.append([i])\n",
        "#         for d in dishes:\n",
        "#             if i in d: rec[-1].append(d[0])\n",
        "    \n",
        "#     rec2 = []\n",
        "#     for r in rec:\n",
        "#         if len(r) < 3: continue\n",
        "#         d = r[0]\n",
        "#         i = r[1:]\n",
        "#         i = sorted(i,key = lambda x: (not x.isupper(), x))\n",
        "#         rec2.append([d] + i)\n",
        "#     rec2 = sorted(rec2)\n",
        "      \n",
        "#     return rec2"
      ],
      "execution_count": 0,
      "outputs": []
    }
  ]
}