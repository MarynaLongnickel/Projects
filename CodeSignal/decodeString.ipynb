{
  "nbformat": 4,
  "nbformat_minor": 0,
  "metadata": {
    "colab": {
      "name": "decodeString.ipynb",
      "version": "0.3.2",
      "provenance": []
    },
    "kernelspec": {
      "name": "python3",
      "display_name": "Python 3"
    }
  },
  "cells": [
    {
      "metadata": {
        "id": "PuQISgdlH2mM",
        "colab_type": "text"
      },
      "cell_type": "markdown",
      "source": [
        "Given an encoded string, return its corresponding decoded string.\n",
        "\n",
        "The encoding rule is: k[encoded_string], where the encoded_string inside the square brackets is repeated exactly k times. Note: k is guaranteed to be a positive integer.\n",
        "\n",
        "Note that your solution should have linear complexity because this is what you will be asked during an interview.\n",
        "\n",
        "Example\n",
        "\n",
        "For s = \"4[ab]\", the output should be\n",
        "decodeString(s) = \"abababab\";\n",
        "\n",
        "For s = \"2[b3[a]]\", the output should be\n",
        "decodeString(s) = \"baaabaaa\";\n",
        "\n",
        "For s = \"z1[y]zzz2[abc]\", the output should be\n",
        "decodeString(s) = \"zyzzzabcabc\"."
      ]
    },
    {
      "metadata": {
        "id": "Zh4_dbGmH18C",
        "colab_type": "code",
        "colab": {}
      },
      "cell_type": "code",
      "source": [
        "def decodeString(s):\n",
        "    stack = []; cur_num = 0; cur_string = ''\n",
        "    for c in s:\n",
        "        if c == '[':\n",
        "            stack.append((cur_string, cur_num))\n",
        "            cur_string = ''\n",
        "            cur_num = 0\n",
        "        elif c == ']':\n",
        "            prev_string, num = stack.pop()\n",
        "            cur_string = prev_string + num * cur_string\n",
        "        elif c.isdigit():\n",
        "            cur_num = cur_num*10 + int(c)\n",
        "        else:\n",
        "            cur_string += c\n",
        "    return cur_string"
      ],
      "execution_count": 0,
      "outputs": []
    }
  ]
}