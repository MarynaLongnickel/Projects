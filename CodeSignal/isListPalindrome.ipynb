{
  "nbformat": 4,
  "nbformat_minor": 0,
  "metadata": {
    "colab": {
      "name": "isListPalindrome.ipynb",
      "version": "0.3.2",
      "provenance": []
    },
    "kernelspec": {
      "name": "python3",
      "display_name": "Python 3"
    }
  },
  "cells": [
    {
      "metadata": {
        "id": "PuQISgdlH2mM",
        "colab_type": "text"
      },
      "cell_type": "markdown",
      "source": [
        "Note: Try to solve this task in O(n) time using O(1) additional space, where n is the number of elements in l, since this is what you'll be asked to do during an interview.\n",
        "\n",
        "Given a singly linked list of integers, determine whether or not it's a palindrome.\n",
        "\n",
        "Example\n",
        "\n",
        "For l = [0, 1, 0], the output should be\n",
        "isListPalindrome(l) = true;\n",
        "For l = [1, 2, 2, 3], the output should be\n",
        "isListPalindrome(l) = false."
      ]
    },
    {
      "metadata": {
        "id": "Zh4_dbGmH18C",
        "colab_type": "code",
        "colab": {}
      },
      "cell_type": "code",
      "source": [
        "def isListPalindrome(l):\n",
        "    a = []\n",
        "    while l != None:\n",
        "        a.append(l.value)\n",
        "        l = l.next\n",
        "    return a == a[::-1]"
      ],
      "execution_count": 0,
      "outputs": []
    },
    {
      "metadata": {
        "id": "cWZRW5dxMLQd",
        "colab_type": "code",
        "colab": {}
      },
      "cell_type": "code",
      "source": [
        "# Check if a Linked List is a Palindrome\n",
        "\n",
        "class Node:\n",
        "  def __init__(self, v = None, next = None):\n",
        "    self.v = v\n",
        "    self.next = next\n",
        "\n",
        "a = Node(1);\n",
        "b = Node(2);\n",
        "c = Node(3);\n",
        "d = Node(2);\n",
        "e = Node(1);\n",
        "\n",
        "a.next = b\n",
        "b.next = c\n",
        "c.next = d\n",
        "d.next = e\n",
        "\n",
        "\n",
        "def isLinkedListPalindrome(root):\n",
        "    r, f = None, root\n",
        "    \n",
        "    while f and f.next:\n",
        "        f = f.next.next\n",
        "        root.next, r, root = r, root, root.next\n",
        "\n",
        "    tail = root.next if f else root\n",
        "    is_palindrome = True\n",
        "    \n",
        "    while r:\n",
        "        is_palindrome = r.v == tail.v\n",
        "        r.next, root, r = root, r, r.next\n",
        "        tail = tail.next\n",
        "\n",
        "    return is_palindrome\n",
        "\n",
        "\n",
        "isLinkedListPalindrome(a)"
      ],
      "execution_count": 0,
      "outputs": []
    }
  ]
}