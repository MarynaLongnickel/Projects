{
  "nbformat": 4,
  "nbformat_minor": 0,
  "metadata": {
    "colab": {
      "name": "constructArray.ipynb",
      "version": "0.3.2",
      "provenance": []
    },
    "kernelspec": {
      "name": "python3",
      "display_name": "Python 3"
    }
  },
  "cells": [
    {
      "metadata": {
        "id": "PuQISgdlH2mM",
        "colab_type": "text"
      },
      "cell_type": "markdown",
      "source": [
        "Given an integer size, return an array containing each integer from 1 to size in the following order:\n",
        "\n",
        "1, size, 2, size - 1, 3, size - 2, 4, ...\n",
        "\n",
        "Example\n",
        "\n",
        "For size = 7, the output should be\n",
        "constructArray(size) = [1, 7, 2, 6, 3, 5, 4]."
      ]
    },
    {
      "metadata": {
        "id": "Zh4_dbGmH18C",
        "colab_type": "code",
        "colab": {}
      },
      "cell_type": "code",
      "source": [
        "def constructArray(size):\n",
        "    a = [0]*size\n",
        "    for i in range(size//2+1 if size%2 == 1 else size//2):\n",
        "        a[2*i] = i+1\n",
        "    for i in range(1, size//2+1):\n",
        "        a[2*i-1] = size - i+1\n",
        "        \n",
        "    return a\n"
      ],
      "execution_count": 0,
      "outputs": []
    }
  ]
}