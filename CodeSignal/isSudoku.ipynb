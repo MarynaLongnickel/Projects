{
  "nbformat": 4,
  "nbformat_minor": 0,
  "metadata": {
    "colab": {
      "name": "isSudoku.ipynb",
      "version": "0.3.2",
      "provenance": []
    },
    "kernelspec": {
      "name": "python3",
      "display_name": "Python 3"
    }
  },
  "cells": [
    {
      "metadata": {
        "id": "PuQISgdlH2mM",
        "colab_type": "text"
      },
      "cell_type": "markdown",
      "source": [
        "Sudoku is a number-placement puzzle. The objective is to fill a 9 × 9 grid with numbers in such a way that each column, each row, and each of the nine 3 × 3 sub-grids that compose the grid all contain all of the numbers from 1 to 9 one time.\n",
        "\n",
        "Implement an algorithm that will check whether the given grid of numbers represents a valid Sudoku puzzle according to the layout rules described above. Note that the puzzle represented by grid does not have to be solvable."
      ]
    },
    {
      "metadata": {
        "id": "Zh4_dbGmH18C",
        "colab_type": "code",
        "colab": {}
      },
      "cell_type": "code",
      "source": [
        "def sudoku2(m):\n",
        "    d = len(m)\n",
        "    for i in range(d):\n",
        "        for j in range(d):\n",
        "            n = m[i][j]\n",
        "            if not n.isdigit(): continue\n",
        "            if m[i].count(n)>1 or [m[k][j]for k in range(d)].count(n)>1: return False\n",
        "            r1, c1 = (i//3)*3, (j//3)*3\n",
        "            r2, c2 = r1 + 3, c1 + 3\n",
        "            count = 0\n",
        "            for r in range(r1, r2):\n",
        "                for c in range(c1, c2):\n",
        "                    if r <= d and c <= d and m[r][c] == n:\n",
        "                        count += 1\n",
        "                        if count > 1: return False\n",
        "    return True\n"
      ],
      "execution_count": 0,
      "outputs": []
    }
  ]
}