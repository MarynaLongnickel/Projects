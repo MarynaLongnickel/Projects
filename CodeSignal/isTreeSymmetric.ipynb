{
  "nbformat": 4,
  "nbformat_minor": 0,
  "metadata": {
    "colab": {
      "name": "isTreSymmetric.ipynb",
      "version": "0.3.2",
      "provenance": []
    },
    "kernelspec": {
      "name": "python3",
      "display_name": "Python 3"
    }
  },
  "cells": [
    {
      "metadata": {
        "id": "PuQISgdlH2mM",
        "colab_type": "text"
      },
      "cell_type": "markdown",
      "source": [
        "Given a binary tree t, determine whether it is symmetric around its center, i.e. each side mirrors the other."
      ]
    },
    {
      "metadata": {
        "id": "rrMp55BjPIUE",
        "colab_type": "code",
        "colab": {}
      },
      "cell_type": "code",
      "source": [
        "def isMirror(r1, r2):\n",
        "      if not r1 and not r2: return True\n",
        "      if not r1 or not r2: return False\n",
        "\n",
        "      return r1.value == r2.value and \\\n",
        "            isMirror(r1.left, r2.right) and \\\n",
        "            isMirror(r1.right, r2.left)\n",
        "\n",
        "def isTreeSymmetric(t):\n",
        "      return isMirror(t, t)"
      ],
      "execution_count": 0,
      "outputs": []
    }
  ]
}