{
  "nbformat": 4,
  "nbformat_minor": 0,
  "metadata": {
    "colab": {
      "name": "largestValuesInTreeRows.ipynb",
      "version": "0.3.2",
      "provenance": []
    },
    "kernelspec": {
      "name": "python3",
      "display_name": "Python 3"
    }
  },
  "cells": [
    {
      "metadata": {
        "id": "PuQISgdlH2mM",
        "colab_type": "text"
      },
      "cell_type": "markdown",
      "source": [
        "You have a binary tree t. Your task is to find the largest value in each row of this tree. In a tree, a row is a set of nodes that have equal depth. For example, a row with depth 0 is a tree root, a row with depth 1 is composed of the root's children, etc.\n",
        "\n",
        "Return an array in which the first element is the largest value in the row with depth 0, the second element is the largest value in the row with depth 1, the third element is the largest element in the row with depth 2, etc.\n",
        "\n",
        "Example\n",
        "\n",
        "For\n",
        "\n",
        "t = {\n",
        "    \"value\": -1,\n",
        "    \"left\": {\n",
        "        \"value\": 5,\n",
        "        \"left\": null,\n",
        "        \"right\": null\n",
        "    },\n",
        "    \"right\": {\n",
        "        \"value\": 7,\n",
        "        \"left\": null,\n",
        "        \"right\": {\n",
        "            \"value\": 1,\n",
        "            \"left\": null,\n",
        "            \"right\": null\n",
        "        }\n",
        "    }\n",
        "}\n",
        "the output should be largestValuesInTreeRows(t) = [-1, 7, 1]."
      ]
    },
    {
      "metadata": {
        "id": "rrMp55BjPIUE",
        "colab_type": "code",
        "colab": {}
      },
      "cell_type": "code",
      "source": [
        "def largestValuesInTreeRows(t):\n",
        "    if not t: return []\n",
        "    m = [-1e9]\n",
        "    q = [t]\n",
        "    c = 1\n",
        "    c2 = 0\n",
        "    while q:\n",
        "        if c > 0:\n",
        "            c -= 1\n",
        "            n = q.pop(0)\n",
        "            if n.value > m[-1]:\n",
        "                m[-1] = n.value\n",
        "            if n.left:\n",
        "                c2 += 1\n",
        "                q.append(n.left)\n",
        "            if n.right:\n",
        "                c2 += 1\n",
        "                q.append(n.right)\n",
        "        else:\n",
        "            m.append(-1e4)\n",
        "            c = c2\n",
        "            c2 = 0\n",
        "    return m"
      ],
      "execution_count": 0,
      "outputs": []
    }
  ]
}