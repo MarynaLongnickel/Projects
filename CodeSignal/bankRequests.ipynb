{
  "nbformat": 4,
  "nbformat_minor": 0,
  "metadata": {
    "colab": {
      "name": "bankRequests.ipynb",
      "version": "0.3.2",
      "provenance": []
    },
    "kernelspec": {
      "name": "python3",
      "display_name": "Python 3"
    }
  },
  "cells": [
    {
      "metadata": {
        "id": "PuQISgdlH2mM",
        "colab_type": "text"
      },
      "cell_type": "markdown",
      "source": [
        "You've been asked to program a bot for a popular bank that will automate the management of incoming requests. There are three types of requests the bank can receive:\n",
        "\n",
        "transfer i j sum: request to transfer sum amount of money from the ith account to the jth one;\n",
        "deposit i sum: request to deposit sum amount of money in the ith account;\n",
        "withdraw i sum: request to withdraw sum amount of money from the ith account.\n",
        "Your bot should also be able to process invalid requests. There are two types of invalid requests:\n",
        "\n",
        "invalid account number in the requests;\n",
        "deposit / withdrawal of a larger amount of money than is currently available.\n",
        "For the given list of accounts and requests, return the state of accounts after all requests have been processed, or an array of a single element [-<request_id>] (please note the minus sign), where <request_id> is the 1-based index of the first invalid request."
      ]
    },
    {
      "metadata": {
        "id": "Zh4_dbGmH18C",
        "colab_type": "code",
        "colab": {}
      },
      "cell_type": "code",
      "source": [
        "def bankRequests(accounts, requests):\n",
        "    \n",
        "    def atransfer(i, j, sum):\n",
        "        l = len(accounts)\n",
        "        if (i > l) or (j > l): return False\n",
        "        elif sum > accounts[i-1]:\n",
        "            return False\n",
        "        else:\n",
        "            accounts[i-1] -= sum\n",
        "            accounts[j-1] += sum\n",
        "        return True\n",
        "            \n",
        "    def adeposit(i, sum):\n",
        "        l = len(accounts)\n",
        "        if i > l: return False\n",
        "        else:\n",
        "            accounts[i-1] += sum\n",
        "        return True\n",
        "        \n",
        "    def awithdraw(i, sum):\n",
        "        l = len(accounts)\n",
        "        if (i > l) or sum > accounts[i-1]: return False\n",
        "        else:\n",
        "            accounts[i-1] -= sum\n",
        "        return True\n",
        "      \n",
        "    k = 0\n",
        "    for r in requests:\n",
        "        k += 1\n",
        "        r = r.split(' ')\n",
        "        for i in range(1, len(r)):\n",
        "            r[i] = int(r[i])\n",
        "        if r[0] == 'transfer':\n",
        "            if not atransfer(r[1], r[2], r[3]): return [-k]\n",
        "        elif r[0] == 'deposit':\n",
        "            if not adeposit(r[1], r[2]): return [-k]\n",
        "        else:\n",
        "            if not awithdraw(r[1], r[2]): return [-k]\n",
        "            \n",
        "    return accounts"
      ],
      "execution_count": 0,
      "outputs": []
    }
  ]
}