{
  "nbformat": 4,
  "nbformat_minor": 0,
  "metadata": {
    "colab": {
      "name": "isCryptSolution.ipynb",
      "version": "0.3.2",
      "provenance": []
    },
    "kernelspec": {
      "name": "python3",
      "display_name": "Python 3"
    }
  },
  "cells": [
    {
      "metadata": {
        "id": "PuQISgdlH2mM",
        "colab_type": "text"
      },
      "cell_type": "markdown",
      "source": [
        "A cryptarithm is a mathematical puzzle for which the goal is to find the correspondence between letters and digits, such that the given arithmetic equation consisting of letters holds true when the letters are converted to digits.\n",
        "\n",
        "You have an array of strings crypt, the cryptarithm, and an an array containing the mapping of letters and digits, solution. The array crypt will contain three non-empty strings that follow the structure: [word1, word2, word3], which should be interpreted as the word1 + word2 = word3 cryptarithm.\n",
        "\n",
        "If crypt, when it is decoded by replacing all of the letters in the cryptarithm with digits using the mapping in solution, becomes a valid arithmetic equation containing no numbers with leading zeroes, the answer is true. If it does not become a valid arithmetic solution, the answer is false.\n",
        "\n",
        "Example\n",
        "\n",
        "For crypt = [\"SEND\", \"MORE\", \"MONEY\"] and\n",
        "\n",
        "solution = [['O', '0'],\n",
        "            ['M', '1'],\n",
        "            ['Y', '2'],\n",
        "            ['E', '5'],\n",
        "            ['N', '6'],\n",
        "            ['D', '7'],\n",
        "            ['R', '8'],\n",
        "            ['S', '9']]\n",
        "the output should be\n",
        "isCryptSolution(crypt, solution) = true.\n",
        "\n",
        "When you decrypt \"SEND\", \"MORE\", and \"MONEY\" using the mapping given in crypt, you get 9567 + 1085 = 10652 which is correct and a valid arithmetic equation.\n",
        "\n",
        "For crypt = [\"TEN\", \"TWO\", \"ONE\"] and\n",
        "\n",
        "solution = [['O', '1'],\n",
        "            ['T', '0'],\n",
        "            ['W', '9'],\n",
        "            ['E', '5'],\n",
        "            ['N', '4']]\n",
        "the output should be\n",
        "isCryptSolution(crypt, solution) = false.\n",
        "\n",
        "Even though 054 + 091 = 145, 054 and 091 both contain leading zeroes, meaning that this is not a valid solution."
      ]
    },
    {
      "metadata": {
        "id": "Zh4_dbGmH18C",
        "colab_type": "code",
        "colab": {}
      },
      "cell_type": "code",
      "source": [
        "def isCryptSolution(crypt, solution):\n",
        "    table = str.maketrans(dict(solution))\n",
        "    t = tuple(s.translate(table) for s in crypt)\n",
        "    zeroes = any(s[0] == '0' for s in t if len(s) > 1)\n",
        "    return not zeroes and int(t[0]) + int(t[1]) == int(t[2])\n"
      ],
      "execution_count": 0,
      "outputs": []
    }
  ]
}